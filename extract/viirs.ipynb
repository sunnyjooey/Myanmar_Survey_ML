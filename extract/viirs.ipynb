{
 "cells": [
  {
   "cell_type": "code",
   "execution_count": null,
   "id": "fa81cc0d",
   "metadata": {},
   "outputs": [],
   "source": [
    "# Notes - landscan will be the reference grid"
   ]
  },
  {
   "cell_type": "code",
   "execution_count": null,
   "id": "965335e9",
   "metadata": {},
   "outputs": [],
   "source": [
    "# !pip install rasterio\n",
    "# !pip install pyproj"
   ]
  },
  {
   "cell_type": "code",
   "execution_count": 1,
   "id": "c105f236",
   "metadata": {},
   "outputs": [],
   "source": [
    "import os\n",
    "import rasterio\n",
    "from rasterio.windows import Window, from_bounds\n",
    "from rasterio.warp import Resampling\n",
    "from rasterio.vrt import WarpedVRT\n",
    "from rasterio import shutil as rio_shutil"
   ]
  },
  {
   "cell_type": "code",
   "execution_count": 2,
   "id": "9b5687c3",
   "metadata": {},
   "outputs": [],
   "source": [
    "from pyproj import Transformer\n",
    "\n",
    "# sanity check - coordinates to check\n",
    "# first coord is in Yangon, second is rural, the rest are randomly selected from the survey\n",
    "coords = [(96.199379, 16.871311), (96.103347, 18.613386), (97.233770, 24.260900), (95.419190, 17.681720), (96.163024, 16.774673), (95.404810, 16.286770)]\n",
    "\n",
    "# given path to a tif file and a list of lon-lat coordinates\n",
    "# this returns the values at those coordinates\n",
    "def check_vals_coord(path, coord_lst):\n",
    "    with rasterio.open(path) as rds:\n",
    "        # convert coordinate to raster projection\n",
    "        transformer = Transformer.from_crs(str(rds.crs), rds.crs, always_xy=True)\n",
    "        pts = [transformer.transform(tup[0], tup[1]) for tup in coord_lst]\n",
    "        # get value from grid\n",
    "        vals = [list(rds.sample([e]))[0][0] for e in pts]\n",
    "    return vals"
   ]
  },
  {
   "cell_type": "code",
   "execution_count": 5,
   "id": "1332fe6e",
   "metadata": {},
   "outputs": [],
   "source": [
    "dirpath = 'C:/Users/sun-joo.lee/Documents/0_git_repos/Myanmar_Survey_ML/data/geo/'\n",
    "refile = 'landscan/global/landscan-global-2017.tif'\n",
    "globpath = 'viirs/global/vcmcfg_avg_rade9h_'\n",
    "clippath = 'viirs/clipped/vcmcfg_clip_'"
   ]
  },
  {
   "cell_type": "code",
   "execution_count": 8,
   "id": "6cfc328d",
   "metadata": {},
   "outputs": [],
   "source": [
    "# bounding box coordinates for myanmar\n",
    "mm_bbox = [91.5, 9.0, 101.5, 29.0]"
   ]
  },
  {
   "cell_type": "code",
   "execution_count": 9,
   "id": "30908630",
   "metadata": {},
   "outputs": [
    {
     "name": "stdout",
     "output_type": "stream",
     "text": [
      "<class 'affine.Affine'>\n"
     ]
    },
    {
     "data": {
      "text/plain": [
       "{'crs': 4326,\n",
       " 'transform': Affine(0.0083333333333333, 0.0, 91.5,\n",
       "        0.0, -0.0083333333333333, 29.0),\n",
       " 'width': 1200,\n",
       " 'height': 2400,\n",
       " 'resampling': <Resampling.bilinear: 1>}"
      ]
     },
     "execution_count": 9,
     "metadata": {},
     "output_type": "execute_result"
    }
   ],
   "source": [
    "# get vrt options from reference (landscan) file\n",
    "with rasterio.open(f'{dirpath}{refile}') as src:\n",
    "    win = from_bounds(*mm_bbox, src.transform)\n",
    "    win = Window(*[max(0, v) for v in win.flatten()])\n",
    "    print(type(src.window_transform(win)))\n",
    "    vrt_options = {\n",
    "        \"crs\": src.crs.to_epsg(),\n",
    "        \"transform\": src.window_transform(win),\n",
    "        \"width\": int(win.width),\n",
    "        \"height\": int(win.height),\n",
    "    }\n",
    "    \n",
    "vrt_options.update({'resampling':Resampling.bilinear})\n",
    "vrt_options"
   ]
  },
  {
   "cell_type": "code",
   "execution_count": 10,
   "id": "d27f6cad",
   "metadata": {},
   "outputs": [],
   "source": [
    "link_dict = {\n",
    "    '201701': 'https://eogdata.mines.edu/nighttime_light/monthly_notile/v10/2017/201701/vcmcfg/SVDNB_npp_20170101-20170131_global_vcmcfg_v10_c201702241223.avg_rade9h.tif',\n",
    "    '201702': 'https://eogdata.mines.edu/nighttime_light/monthly_notile/v10/2017/201702/vcmcfg/SVDNB_npp_20170201-20170228_global_vcmcfg_v10_c201703012030.avg_rade9h.tif',\n",
    "    '201703': 'https://eogdata.mines.edu/nighttime_light/monthly_notile/v10/2017/201703/vcmcfg/SVDNB_npp_20170301-20170331_global_vcmcfg_v10_c201705020851.avg_rade9h.tif',\n",
    "    '201704': 'https://eogdata.mines.edu/nighttime_light/monthly_notile/v10/2017/201704/vcmcfg/SVDNB_npp_20170401-20170430_global_vcmcfg_v10_c201705011300.avg_rade9h.tif',\n",
    "    '201705': 'https://eogdata.mines.edu/nighttime_light/monthly_notile/v10/2017/201705/vcmcfg/SVDNB_npp_20170501-20170531_global_vcmcfg_v10_c201706021500.avg_rade9h.tif',\n",
    "    '201706': 'https://eogdata.mines.edu/nighttime_light/monthly_notile/v10/2017/201706/vcmcfg/SVDNB_npp_20170601-20170630_global_vcmcfg_v10_c201707021700.avg_rade9h.tif',\n",
    "    '201707': 'https://eogdata.mines.edu/nighttime_light/monthly_notile/v10/2017/201707/vcmcfg/SVDNB_npp_20170701-20170731_global_vcmcfg_v10_c201708061230.avg_rade9h.tif',\n",
    "    '201708': 'https://eogdata.mines.edu/nighttime_light/monthly_notile/v10/2017/201708/vcmcfg/SVDNB_npp_20170801-20170831_global_vcmcfg_v10_c201709051000.avg_rade9h.tif',\n",
    "    '201709': 'https://eogdata.mines.edu/nighttime_light/monthly_notile/v10/2017/201709/vcmcfg/SVDNB_npp_20170901-20170930_global_vcmcfg_v10_c201710041620.avg_rade9h.tif',\n",
    "    '201710': 'https://eogdata.mines.edu/nighttime_light/monthly_notile/v10/2017/201710/vcmcfg/SVDNB_npp_20171001-20171031_global_vcmcfg_v10_c201711021230.avg_rade9h.tif',\n",
    "    '201711': 'https://eogdata.mines.edu/nighttime_light/monthly_notile/v10/2017/201711/vcmcfg/SVDNB_npp_20171101-20171130_global_vcmcfg_v10_c201712040930.avg_rade9h.tif',\n",
    "    '201712': 'https://eogdata.mines.edu/nighttime_light/monthly_notile/v10/2017/201712/vcmcfg/SVDNB_npp_20171201-20171231_global_vcmcfg_v10_c201801021747.avg_rade9h.tif'\n",
    "}"
   ]
  },
  {
   "cell_type": "code",
   "execution_count": 12,
   "id": "2bd11403",
   "metadata": {},
   "outputs": [
    {
     "name": "stdout",
     "output_type": "stream",
     "text": [
      "201701\n",
      "[13.09, 0.01, 5.76, 0.06, 47.43, 2.07]\n",
      "[13.8376465, 0.016876183, 4.044367, 0.07811758, 45.285015, 2.0959654]\n",
      "\n",
      "201702\n",
      "[13.32, 0.11, 3.82, 0.11, 41.6, 2.54]\n",
      "[13.749897, 0.11188203, 3.099089, 0.14874202, 47.524075, 2.5841362]\n",
      "\n",
      "201703\n",
      "[12.58, 0.3, 3.8, 0.22, 39.4, 2.44]\n",
      "[13.661392, 0.28436726, 2.8865807, 0.26124838, 45.775574, 2.3671215]\n",
      "\n",
      "201704\n",
      "[11.61, 0.32, 3.47, 0.39, 40.97, 1.7]\n",
      "[11.958814, 0.31499025, 2.6608102, 0.41312444, 42.551296, 1.7195928]\n",
      "\n",
      "201705\n",
      "[11.98, 0.31, 4.17, 0.38, 35.16, 1.41]\n",
      "[11.8645, 0.2781384, 3.5413263, 0.3456169, 41.97414, 1.5383265]\n",
      "\n",
      "201706\n",
      "[6.53, 0.31, 2.17, 0.37, 43.88, 0.99]\n",
      "[7.0851307, 0.28811744, 2.245393, 0.31935504, 43.24536, 0.9369193]\n",
      "\n",
      "201707\n",
      "[4.76, 0.23, 2.63, 0.28, 0.0, 0.0]\n",
      "[4.487892, 0.10058674, 2.3456128, 0.23687153, 0.0, 0.033163562]\n",
      "\n",
      "201708\n",
      "[7.54, 0.24, 2.26, 0.2, 36.85, 1.65]\n",
      "[7.8517184, 0.25812885, 2.542585, 0.2981151, 43.42656, 1.4858137]\n",
      "\n",
      "201709\n",
      "[10.66, 0.54, 2.85, 0.4, 71.43, 1.45]\n",
      "[13.154704, 0.51310635, 2.5821352, 0.42937326, 74.71752, 1.3270711]\n",
      "\n",
      "201710\n",
      "[9.75, 0.3, 4.01, 0.23, 75.73, 1.75]\n",
      "[11.101612, 0.30811614, 3.1378064, 0.26125148, 67.142784, 1.895328]\n",
      "\n",
      "201711\n",
      "[9.48, 0.24, 4.51, 0.2, 42.96, 1.24]\n",
      "[10.335109, 0.2206169, 3.550388, 0.25687096, 62.41507, 1.4141012]\n",
      "\n",
      "201712\n",
      "[12.96, 0.02, 4.51, 0.07, 71.1, 2.63]\n",
      "[14.384001, 0.04126024, 3.7810411, 0.11312551, 70.55479, 2.5542436]\n",
      "\n"
     ]
    }
   ],
   "source": [
    "import requests\n",
    "\n",
    "# download chunk size\n",
    "CHUNK = 2 ** 10\n",
    "\n",
    "for year_month, url in link_dict.items():\n",
    "    \n",
    "    # save the global file\n",
    "    globfile = f'{dirpath}{globpath}{year_month}.tif'\n",
    "    with open(globfile, 'wb') as f:\n",
    "        ret = requests.get(url, stream=True)\n",
    "        for data in ret.iter_content(CHUNK):\n",
    "            f.write(data)\n",
    "    \n",
    "    # warp and save the clipped file\n",
    "    # https://rasterio.readthedocs.io/en/latest/topics/virtual-warping.html\n",
    "    clipfile = f'{dirpath}{clippath}{year_month}.tif'\n",
    "    with rasterio.open(globfile) as src:\n",
    "        with WarpedVRT(src, **vrt_options) as vrt:\n",
    "            data = vrt.read()\n",
    "            for _, window in vrt.block_windows():\n",
    "                data = vrt.read(window=window)\n",
    "            rio_shutil.copy(vrt, clipfile, driver='GTiff')\n",
    "    \n",
    "    # sanity check\n",
    "    print(year_month)\n",
    "    print(check_vals_coord(globfile, coords))    \n",
    "    print(check_vals_coord(clipfile, coords))    \n",
    "    print()"
   ]
  },
  {
   "cell_type": "code",
   "execution_count": null,
   "id": "a6b68bf5",
   "metadata": {},
   "outputs": [],
   "source": []
  },
  {
   "cell_type": "code",
   "execution_count": null,
   "id": "78e79b49",
   "metadata": {},
   "outputs": [],
   "source": []
  },
  {
   "cell_type": "code",
   "execution_count": null,
   "id": "e1f50564",
   "metadata": {},
   "outputs": [],
   "source": []
  },
  {
   "cell_type": "code",
   "execution_count": null,
   "id": "d783f4c3",
   "metadata": {},
   "outputs": [],
   "source": []
  }
 ],
 "metadata": {
  "kernelspec": {
   "display_name": "Python 3 (ipykernel)",
   "language": "python",
   "name": "python3"
  },
  "language_info": {
   "codemirror_mode": {
    "name": "ipython",
    "version": 3
   },
   "file_extension": ".py",
   "mimetype": "text/x-python",
   "name": "python",
   "nbconvert_exporter": "python",
   "pygments_lexer": "ipython3",
   "version": "3.9.12"
  }
 },
 "nbformat": 4,
 "nbformat_minor": 5
}
