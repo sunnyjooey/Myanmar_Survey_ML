{
 "cells": [
  {
   "cell_type": "code",
   "execution_count": 0,
   "metadata": {
    "application/vnd.databricks.v1+cell": {
     "cellMetadata": {},
     "inputWidgets": {},
     "nuid": "45a39051-2e33-4544-86de-f13324aca2db",
     "showTitle": false,
     "title": ""
    }
   },
   "outputs": [],
   "source": [
    "import os\n",
    "import pandas as pd\n",
    "import numpy as np\n",
    "import datetime\n",
    "import pickle\n",
    "\n",
    "import xarray as xr\n",
    "import rioxarray\n",
    "\n",
    "import rasterio\n",
    "from rasterio.windows import Window, from_bounds\n",
    "from rasterio.warp import Resampling\n",
    "from rasterio.vrt import WarpedVRT\n",
    "from rasterio import shutil as rio_shutil"
   ]
  },
  {
   "cell_type": "code",
   "execution_count": 0,
   "metadata": {
    "application/vnd.databricks.v1+cell": {
     "cellMetadata": {},
     "inputWidgets": {},
     "nuid": "c9738c1c-d6d6-46ac-8a6f-9e3b27f7c1d3",
     "showTitle": false,
     "title": ""
    }
   },
   "outputs": [],
   "source": [
    "# paths\n",
    "dirpath = '/Users/Sun-jooLee/Git_Projects/Myanmar_Survey_ML/data/geo'\n",
    "# this is the reference grid - landscan (population)\n",
    "refpath = f'{dirpath}/landscan/landscan-global-2017.tif'"
   ]
  },
  {
   "cell_type": "code",
   "execution_count": 0,
   "metadata": {
    "application/vnd.databricks.v1+cell": {
     "cellMetadata": {},
     "inputWidgets": {},
     "nuid": "66f6de51-56c2-41ed-bd00-2fbb0df014a2",
     "showTitle": false,
     "title": ""
    }
   },
   "outputs": [],
   "source": [
    "# myanmar bounding box\n",
    "min_lon = 92.3032344909 \n",
    "min_lat = 9.93295990645 \n",
    "max_lon = 101.180005324 \n",
    "max_lat = 28.335945136 "
   ]
  },
  {
   "cell_type": "markdown",
   "metadata": {
    "application/vnd.databricks.v1+cell": {
     "cellMetadata": {},
     "inputWidgets": {},
     "nuid": "1cc2cd5c-f122-4435-b634-0d1e4cc4d8b7",
     "showTitle": false,
     "title": ""
    }
   },
   "source": [
    "### Reference grid vrt options"
   ]
  },
  {
   "cell_type": "code",
   "execution_count": 0,
   "metadata": {
    "application/vnd.databricks.v1+cell": {
     "cellMetadata": {},
     "inputWidgets": {},
     "nuid": "88444960-4ae5-40dd-aefb-4aa8f8de2c68",
     "showTitle": false,
     "title": ""
    }
   },
   "outputs": [],
   "source": [
    "with rasterio.open(refpath) as src:\n",
    "    # clip to myanmar\n",
    "    win = from_bounds(min_lon, min_lat, max_lon, max_lat, src.transform)\n",
    "    win = Window(*[max(0, v) for v in win.flatten()])\n",
    "    vrt_options = {\n",
    "        \"crs\": src.crs.to_epsg(),\n",
    "        \"transform\": src.window_transform(win),\n",
    "        \"width\": int(win.width),\n",
    "        \"height\": int(win.height),\n",
    "    }\n",
    "    \n",
    "vrt_options.update({'resampling':Resampling.bilinear})\n",
    "vrt_options"
   ]
  },
  {
   "cell_type": "markdown",
   "metadata": {
    "application/vnd.databricks.v1+cell": {
     "cellMetadata": {},
     "inputWidgets": {},
     "nuid": "c27a0074-90f0-4fb5-806e-c646231c21db",
     "showTitle": false,
     "title": ""
    }
   },
   "source": [
    "### Landscan (annual) - ref grid"
   ]
  },
  {
   "cell_type": "code",
   "execution_count": 0,
   "metadata": {
    "application/vnd.databricks.v1+cell": {
     "cellMetadata": {},
     "inputWidgets": {},
     "nuid": "64a807ae-3ada-44f1-9f79-78f1c904b142",
     "showTitle": false,
     "title": ""
    }
   },
   "outputs": [],
   "source": [
    "# path\n",
    "landscan_path = f'{dirpath}/landscan/landscan-global-2017.tif'\n",
    "# open file\n",
    "da = rioxarray.open_rasterio(landscan_path)\n",
    "# clip to myanmar\n",
    "lscn = da.rio.clip_box(minx=min_lon, miny=min_lat, maxx=max_lon, maxy=max_lat)\n",
    "# fill non value \n",
    "lscn = lscn.where(lscn != lscn.attrs['_FillValue'], np.nan)\n",
    "# some cleaning\n",
    "lscn = lscn.drop('band').drop('spatial_ref')\n",
    "lscn.name = 'landscan'\n",
    "lscn = lscn.to_dataset()\n",
    "lscn = (\n",
    "    lscn.expand_dims({'time':[datetime.date(2017,1,1)], 'source':['landscan']})\n",
    "    .rename({'x':'lon', 'y':'lat'})\n",
    "    .squeeze('band')\n",
    ")"
   ]
  },
  {
   "cell_type": "code",
   "execution_count": 0,
   "metadata": {
    "application/vnd.databricks.v1+cell": {
     "cellMetadata": {},
     "inputWidgets": {},
     "nuid": "0216e7b3-26f5-4c4b-9434-554448b3d161",
     "showTitle": false,
     "title": ""
    }
   },
   "outputs": [],
   "source": [
    "# check \n",
    "lscn"
   ]
  },
  {
   "cell_type": "code",
   "execution_count": 0,
   "metadata": {
    "application/vnd.databricks.v1+cell": {
     "cellMetadata": {},
     "inputWidgets": {},
     "nuid": "dbe4fe86-3952-45a0-af02-2b591ec9b89d",
     "showTitle": false,
     "title": ""
    }
   },
   "outputs": [],
   "source": [
    "# save\n",
    "with open(f'{dirpath}/landscan/landscan2017_xarray.pickle', 'wb') as handle:\n",
    "    pickle.dump(lscn, handle, protocol=pickle.HIGHEST_PROTOCOL)"
   ]
  },
  {
   "cell_type": "markdown",
   "metadata": {
    "application/vnd.databricks.v1+cell": {
     "cellMetadata": {},
     "inputWidgets": {},
     "nuid": "2c7be140-bd3d-48f0-8960-ad581ab3293d",
     "showTitle": false,
     "title": ""
    }
   },
   "source": [
    "### Landcover (annual)"
   ]
  },
  {
   "cell_type": "code",
   "execution_count": 0,
   "metadata": {
    "application/vnd.databricks.v1+cell": {
     "cellMetadata": {},
     "inputWidgets": {},
     "nuid": "2210782e-62df-4a43-8c90-ace19a6cd535",
     "showTitle": false,
     "title": ""
    }
   },
   "outputs": [],
   "source": [
    "# path\n",
    "landcover_path = f'netcdf:{dirpath}/landcover/C3S-LC-L4-LCCS-Map-300m-P1Y-2017-v2.1.1-002.nc:lccs_class'\n",
    "# open transformed and clipped to myanmar\n",
    "with rasterio.open(landcover_path) as src:\n",
    "    with WarpedVRT(src, **vrt_options) as vrt:\n",
    "        lcvr = rioxarray.open_rasterio(vrt)"
   ]
  },
  {
   "cell_type": "code",
   "execution_count": 0,
   "metadata": {
    "application/vnd.databricks.v1+cell": {
     "cellMetadata": {},
     "inputWidgets": {},
     "nuid": "c74bdc55-d9f9-4175-aee8-85e87f8ed038",
     "showTitle": false,
     "title": ""
    }
   },
   "outputs": [],
   "source": [
    "# some cleaning - note, no non values in myanmar\n",
    "lcvr = lcvr.drop('band').drop('spatial_ref')\n",
    "lcvr.name = 'landcover'\n",
    "lcvr = lcvr.to_dataset()\n",
    "lcvr = (\n",
    "    lcvr.expand_dims({'time':[datetime.date(2017,1,1)], 'source':['landcover']})\n",
    "    .rename({'x':'lon', 'y':'lat'})\n",
    "    .squeeze('band')\n",
    ")"
   ]
  },
  {
   "cell_type": "code",
   "execution_count": 0,
   "metadata": {
    "application/vnd.databricks.v1+cell": {
     "cellMetadata": {},
     "inputWidgets": {},
     "nuid": "5e821735-d852-4d39-be7f-fb0f083f545b",
     "showTitle": false,
     "title": ""
    }
   },
   "outputs": [],
   "source": [
    "# check\n",
    "lcvr"
   ]
  },
  {
   "cell_type": "code",
   "execution_count": 0,
   "metadata": {
    "application/vnd.databricks.v1+cell": {
     "cellMetadata": {},
     "inputWidgets": {},
     "nuid": "f1c031a2-ee2e-4bb8-8219-d448b5a1e321",
     "showTitle": false,
     "title": ""
    }
   },
   "outputs": [],
   "source": [
    "# save\n",
    "with open(f'{dirpath}/landcover/landcover2017_xarray.pickle', 'wb') as handle:\n",
    "    pickle.dump(lcvr, handle, protocol=pickle.HIGHEST_PROTOCOL)"
   ]
  },
  {
   "cell_type": "markdown",
   "metadata": {
    "application/vnd.databricks.v1+cell": {
     "cellMetadata": {},
     "inputWidgets": {},
     "nuid": "8ffc9967-14c7-4deb-add7-780c1db7fc30",
     "showTitle": false,
     "title": ""
    }
   },
   "source": [
    "### VIIRS (monthly)"
   ]
  },
  {
   "cell_type": "code",
   "execution_count": 0,
   "metadata": {
    "application/vnd.databricks.v1+cell": {
     "cellMetadata": {},
     "inputWidgets": {},
     "nuid": "f37bf89b-9e61-4d1b-9abf-cb0ef9568ef5",
     "showTitle": false,
     "title": ""
    }
   },
   "outputs": [],
   "source": [
    "viirs_lst = [file for file in os.listdir(f'{dirpath}/viirs/2017/') if file!='.DS_Store']\n",
    "viirs_xarrays = []\n",
    "\n",
    "for file in viirs_lst:\n",
    "    # path\n",
    "    viirs_path = f'{dirpath}/viirs/2017/{file}'\n",
    "    # open transformed and clipped to myanmar\n",
    "    with rasterio.open(viirs_path) as src:\n",
    "        with WarpedVRT(src, **vrt_options) as vrt:\n",
    "            viirs = rioxarray.open_rasterio(vrt)\n",
    "            \n",
    "    # process one month dataset    \n",
    "    yearmonth_tif = file.split('_')[-1]\n",
    "    year = int(yearmonth_tif[:4])\n",
    "    month = int(yearmonth_tif[4:6])\n",
    "    \n",
    "    # fill non value \n",
    "    viirs = viirs.where(viirs != viirs.attrs['_FillValue'], np.nan)\n",
    "    # some cleaning\n",
    "    viirs = viirs.drop('band').drop('spatial_ref')\n",
    "    viirs.name = 'viirs'\n",
    "    viirs = viirs.to_dataset()\n",
    "    viirs = (\n",
    "        viirs.expand_dims({'time':[datetime.date(year, month, 1)], 'source':['viirs']})\n",
    "        .rename({'x':'lon', 'y':'lat'})\n",
    "        .squeeze('band')\n",
    "    )\n",
    "    viirs_xarrays.append(viirs)"
   ]
  },
  {
   "cell_type": "code",
   "execution_count": 0,
   "metadata": {
    "application/vnd.databricks.v1+cell": {
     "cellMetadata": {},
     "inputWidgets": {},
     "nuid": "5499843e-fbcf-492a-8e3d-81e51e84226a",
     "showTitle": false,
     "title": ""
    }
   },
   "outputs": [],
   "source": [
    "# check\n",
    "print(len(viirs_xarrays))\n",
    "viirs_all = xr.combine_by_coords(viirs_xarrays, combine_attrs='drop')\n",
    "viirs_all"
   ]
  },
  {
   "cell_type": "code",
   "execution_count": 0,
   "metadata": {
    "application/vnd.databricks.v1+cell": {
     "cellMetadata": {},
     "inputWidgets": {},
     "nuid": "6ec826fd-eed8-47e6-b804-d778177d8bfd",
     "showTitle": false,
     "title": ""
    }
   },
   "outputs": [],
   "source": [
    "# save\n",
    "with open(f'{dirpath}/viirs/2017/viirs2017_xarray.pickle', 'wb') as handle:\n",
    "    pickle.dump(viirs_all, handle, protocol=pickle.HIGHEST_PROTOCOL)"
   ]
  },
  {
   "cell_type": "markdown",
   "metadata": {
    "application/vnd.databricks.v1+cell": {
     "cellMetadata": {},
     "inputWidgets": {},
     "nuid": "00ca6e2d-b579-484e-8007-f36048731aa9",
     "showTitle": false,
     "title": ""
    }
   },
   "source": [
    "### FLDAS (monthly)"
   ]
  },
  {
   "cell_type": "code",
   "execution_count": 0,
   "metadata": {
    "application/vnd.databricks.v1+cell": {
     "cellMetadata": {},
     "inputWidgets": {},
     "nuid": "c2a2cb98-7197-4c1b-bed1-4fd3539510ab",
     "showTitle": false,
     "title": ""
    }
   },
   "outputs": [],
   "source": [
    "# all_vars = ['Evap_tavg','LWdown_f_tavg','Lwnet_tavg','Psurf_f_tavg','Qair_f_tavg','Qg_tavg','Qh_tavg','Qle_tavg','Qs_tavg','Qsb_tavg','RadT_tavg','Rainf_f_tavg','SWE_inst','SWdown_f_tavg','SnowCover_inst','SnowDepth_inst','Snowf_tavg','Swnet_tavg','Tair_f_tavg','Wind_f_tavg','SoilMoi00_10cm_tavg','SoilMoi10_40cm_tavg','SoilMoi40_100cm_tavg','SoilMoi100_200cm_tavg','SoilTemp00_10cm_tavg','SoilTemp10_40cm_tavg','SoilTemp40_100cm_tavg','SoilTemp100_200cm_tavg']\n",
    "fldas_vars = ['Evap_tavg','Rainf_f_tavg','Tair_f_tavg','SoilMoi00_10cm_tavg','SoilMoi10_40cm_tavg','SoilMoi40_100cm_tavg','SoilMoi100_200cm_tavg','Qair_f_tavg','Qg_tavg','Qh_tavg','Qs_tavg']"
   ]
  },
  {
   "cell_type": "code",
   "execution_count": 0,
   "metadata": {
    "application/vnd.databricks.v1+cell": {
     "cellMetadata": {},
     "inputWidgets": {},
     "nuid": "2acd3029-5c92-447e-bd10-8c1366e4323a",
     "showTitle": false,
     "title": ""
    }
   },
   "outputs": [],
   "source": [
    "fldas_lst = [file for file in os.listdir(f'{dirpath}/fldas/2017/') if file!='.DS_Store']\n",
    "fldas_xarrays = []\n",
    "\n",
    "for file in fldas_lst:\n",
    "    for var in fldas_vars:\n",
    "        # path\n",
    "        fldas_path = f'netcdf:{dirpath}/fldas/2017/{file}:{var}'\n",
    "        # open transformed and clipped to myanmar\n",
    "        with rasterio.open(fldas_path) as src:\n",
    "            with WarpedVRT(src, **vrt_options) as vrt:\n",
    "                fldas = rioxarray.open_rasterio(vrt)\n",
    "\n",
    "        # process one month dataset    \n",
    "        yearmonth = file.split('.')[1]\n",
    "        year = int(yearmonth[1:5])\n",
    "        month = int(yearmonth[5:7])\n",
    "        \n",
    "        # fill non value \n",
    "        fldas = fldas.where(fldas != fldas.attrs['_FillValue'], np.nan)\n",
    "        # some cleaning\n",
    "        fldas = fldas.drop('band').drop('spatial_ref')\n",
    "        fldas.name = var\n",
    "        fldas = fldas.to_dataset()\n",
    "        fldas = (\n",
    "            fldas.expand_dims({'time':[datetime.date(year, month, 1)], 'source':['fldas']})\n",
    "            .rename({'x':'lon', 'y':'lat'})\n",
    "            .squeeze('band')\n",
    "        )\n",
    "        fldas_xarrays.append(fldas)"
   ]
  },
  {
   "cell_type": "code",
   "execution_count": 0,
   "metadata": {
    "application/vnd.databricks.v1+cell": {
     "cellMetadata": {},
     "inputWidgets": {},
     "nuid": "374e7746-66f5-43b8-9844-5d6a598cffdc",
     "showTitle": false,
     "title": ""
    },
    "scrolled": true
   },
   "outputs": [],
   "source": [
    "# check\n",
    "print(len(fldas_xarrays))\n",
    "fldas_all = xr.combine_by_coords(fldas_xarrays, combine_attrs='drop')\n",
    "fldas_all"
   ]
  },
  {
   "cell_type": "code",
   "execution_count": 0,
   "metadata": {
    "application/vnd.databricks.v1+cell": {
     "cellMetadata": {},
     "inputWidgets": {},
     "nuid": "6ca93c88-c854-455d-9ce1-b1e6612eaae9",
     "showTitle": false,
     "title": ""
    }
   },
   "outputs": [],
   "source": [
    "# save\n",
    "with open(f'{dirpath}/fldas/2017/fldas2017_xarray.pickle', 'wb') as handle:\n",
    "    pickle.dump(fldas_all, handle, protocol=pickle.HIGHEST_PROTOCOL)"
   ]
  },
  {
   "cell_type": "code",
   "execution_count": 0,
   "metadata": {
    "application/vnd.databricks.v1+cell": {
     "cellMetadata": {},
     "inputWidgets": {},
     "nuid": "f606b5f6-7721-42f8-a45b-32fcb2fa51b8",
     "showTitle": false,
     "title": ""
    }
   },
   "outputs": [],
   "source": []
  },
  {
   "cell_type": "code",
   "execution_count": 0,
   "metadata": {
    "application/vnd.databricks.v1+cell": {
     "cellMetadata": {},
     "inputWidgets": {},
     "nuid": "acc51423-e78c-4c22-b0da-a64a9b365df7",
     "showTitle": false,
     "title": ""
    }
   },
   "outputs": [],
   "source": []
  }
 ],
 "metadata": {
  "application/vnd.databricks.v1+notebook": {
   "dashboards": [],
   "language": "python",
   "notebookMetadata": {
    "pythonIndentUnit": 4
   },
   "notebookName": "process",
   "widgets": {}
  },
  "kernelspec": {
   "display_name": "Python 3 (ipykernel)",
   "language": "python",
   "name": "python3"
  },
  "language_info": {
   "codemirror_mode": {
    "name": "ipython",
    "version": 3
   },
   "file_extension": ".py",
   "mimetype": "text/x-python",
   "name": "python",
   "nbconvert_exporter": "python",
   "pygments_lexer": "ipython3",
   "version": "3.9.7"
  }
 },
 "nbformat": 4,
 "nbformat_minor": 0
}
