{
 "cells": [
  {
   "cell_type": "code",
   "execution_count": 0,
   "metadata": {
    "application/vnd.databricks.v1+cell": {
     "cellMetadata": {},
     "inputWidgets": {},
     "nuid": "fad22773-e9da-44fe-aa1e-0c0e3cbeb520",
     "showTitle": false,
     "tableResultSettingsMap": {},
     "title": ""
    }
   },
   "outputs": [],
   "source": [
    "!pip install numpy==1.23.0\n",
    "!pip install xarray\n",
    "!pip install rioxarray"
   ]
  },
  {
   "cell_type": "code",
   "execution_count": 0,
   "metadata": {
    "application/vnd.databricks.v1+cell": {
     "cellMetadata": {
      "byteLimit": 2048000,
      "rowLimit": 10000
     },
     "inputWidgets": {},
     "nuid": "694b4fb2-16ba-4adb-a15d-1e745aec986f",
     "showTitle": false,
     "tableResultSettingsMap": {},
     "title": ""
    }
   },
   "outputs": [],
   "source": [
    "# restart the python kernel to import xarray correctly!\n",
    "dbutils.library.restartPython()"
   ]
  },
  {
   "cell_type": "code",
   "execution_count": 0,
   "metadata": {
    "application/vnd.databricks.v1+cell": {
     "cellMetadata": {
      "byteLimit": 2048000,
      "rowLimit": 10000
     },
     "inputWidgets": {},
     "nuid": "45a39051-2e33-4544-86de-f13324aca2db",
     "showTitle": false,
     "tableResultSettingsMap": {},
     "title": ""
    }
   },
   "outputs": [],
   "source": [
    "import os\n",
    "import pandas as pd\n",
    "import numpy as np\n",
    "import datetime\n",
    "import pickle\n",
    "import re\n",
    "\n",
    "import xarray as xr\n",
    "import rioxarray\n",
    "\n",
    "import rasterio\n",
    "from rasterio.windows import Window, from_bounds\n",
    "from rasterio.warp import Resampling\n",
    "from rasterio.vrt import WarpedVRT\n",
    "from rasterio import shutil as rio_shutil"
   ]
  },
  {
   "cell_type": "code",
   "execution_count": 0,
   "metadata": {
    "application/vnd.databricks.v1+cell": {
     "cellMetadata": {
      "byteLimit": 2048000,
      "rowLimit": 10000
     },
     "inputWidgets": {},
     "nuid": "d4abd223-708c-4898-afc2-b256f7d8001f",
     "showTitle": false,
     "tableResultSettingsMap": {},
     "title": ""
    }
   },
   "outputs": [],
   "source": [
    "from pyspark.sql.types import StructType, StructField, StringType, IntegerType, DateType, FloatType"
   ]
  },
  {
   "cell_type": "code",
   "execution_count": 0,
   "metadata": {
    "application/vnd.databricks.v1+cell": {
     "cellMetadata": {
      "byteLimit": 2048000,
      "rowLimit": 10000
     },
     "inputWidgets": {},
     "nuid": "c9738c1c-d6d6-46ac-8a6f-9e3b27f7c1d3",
     "showTitle": false,
     "tableResultSettingsMap": {},
     "title": ""
    }
   },
   "outputs": [],
   "source": [
    "# paths\n",
    "dirpath = '/dbfs/FileStore/Myanmar_Survey_ML/data/geo'\n",
    "# this is the reference grid \n",
    "refpath = f'netcdf:{dirpath}/landcover/C3S-LC-L4-LCCS-Map-300m-P1Y-2017-v2.1.1-002.nc:lccs_class'"
   ]
  },
  {
   "cell_type": "code",
   "execution_count": 0,
   "metadata": {
    "application/vnd.databricks.v1+cell": {
     "cellMetadata": {
      "byteLimit": 2048000,
      "rowLimit": 10000
     },
     "inputWidgets": {},
     "nuid": "66f6de51-56c2-41ed-bd00-2fbb0df014a2",
     "showTitle": false,
     "tableResultSettingsMap": {},
     "title": ""
    }
   },
   "outputs": [],
   "source": [
    "# myanmar bounding box\n",
    "min_lon = 92.3032344909 \n",
    "min_lat = 9.93295990645 \n",
    "max_lon = 101.180005324 \n",
    "max_lat = 28.335945136 "
   ]
  },
  {
   "cell_type": "markdown",
   "metadata": {
    "application/vnd.databricks.v1+cell": {
     "cellMetadata": {},
     "inputWidgets": {},
     "nuid": "1cc2cd5c-f122-4435-b634-0d1e4cc4d8b7",
     "showTitle": false,
     "tableResultSettingsMap": {},
     "title": ""
    }
   },
   "source": [
    "### Reference grid vrt options"
   ]
  },
  {
   "cell_type": "code",
   "execution_count": 0,
   "metadata": {
    "application/vnd.databricks.v1+cell": {
     "cellMetadata": {
      "byteLimit": 2048000,
      "rowLimit": 10000
     },
     "inputWidgets": {},
     "nuid": "88444960-4ae5-40dd-aefb-4aa8f8de2c68",
     "showTitle": false,
     "tableResultSettingsMap": {},
     "title": ""
    }
   },
   "outputs": [],
   "source": [
    "with rasterio.open(refpath) as src:\n",
    "    # clip to myanmar\n",
    "    win = from_bounds(min_lon, min_lat, max_lon, max_lat, src.transform)\n",
    "    win = Window(*[max(0, v) for v in win.flatten()])\n",
    "    vrt_options = {\n",
    "        \"transform\": src.window_transform(win),\n",
    "        \"width\": int(win.width),\n",
    "        \"height\": int(win.height),\n",
    "    }\n",
    "    \n",
    "vrt_options.update({'resampling':Resampling.bilinear})\n",
    "vrt_options"
   ]
  },
  {
   "cell_type": "markdown",
   "metadata": {
    "application/vnd.databricks.v1+cell": {
     "cellMetadata": {},
     "inputWidgets": {},
     "nuid": "f165d91c-c9a1-461f-971d-a17dbd9e746e",
     "showTitle": false,
     "tableResultSettingsMap": {},
     "title": ""
    }
   },
   "source": [
    "### Landcover (annual) - reference grid"
   ]
  },
  {
   "cell_type": "code",
   "execution_count": 0,
   "metadata": {
    "application/vnd.databricks.v1+cell": {
     "cellMetadata": {
      "byteLimit": 2048000,
      "rowLimit": 10000
     },
     "inputWidgets": {},
     "nuid": "120eac65-2c0c-4975-9ec5-6bba29734cf0",
     "showTitle": false,
     "tableResultSettingsMap": {},
     "title": ""
    }
   },
   "outputs": [],
   "source": [
    "# path\n",
    "landcover_path = f'netcdf:{dirpath}/landcover/C3S-LC-L4-LCCS-Map-300m-P1Y-2017-v2.1.1-002.nc:lccs_class'\n",
    "# open transformed and clipped to myanmar\n",
    "with rasterio.open(landcover_path) as src:\n",
    "    with WarpedVRT(src, **vrt_options) as vrt:\n",
    "        lcvr = rioxarray.open_rasterio(vrt)"
   ]
  },
  {
   "cell_type": "code",
   "execution_count": 0,
   "metadata": {
    "application/vnd.databricks.v1+cell": {
     "cellMetadata": {
      "byteLimit": 2048000,
      "rowLimit": 10000
     },
     "inputWidgets": {},
     "nuid": "52315c37-0252-4888-a1e0-8799e66a5ea6",
     "showTitle": false,
     "tableResultSettingsMap": {},
     "title": ""
    }
   },
   "outputs": [],
   "source": [
    "# filter to landcover that is in the data\n",
    "flags = lcvr.attrs['flag_meanings'].split(' ')\n",
    "dct = {int(lcvr.attrs['flag_values'][i]): flags[i] for i in range(len(lcvr.attrs['flag_values']))}\n",
    "# take out 'no data' and 'water' (the ocean)\n",
    "dct.pop(0)\n",
    "dct.pop(210)\n",
    "dct"
   ]
  },
  {
   "cell_type": "code",
   "execution_count": 0,
   "metadata": {
    "application/vnd.databricks.v1+cell": {
     "cellMetadata": {
      "byteLimit": 2048000,
      "rowLimit": 10000
     },
     "inputWidgets": {},
     "nuid": "f62bb20a-acd1-4bb3-93fb-3e1ef6ba2a70",
     "showTitle": false,
     "tableResultSettingsMap": {},
     "title": ""
    }
   },
   "outputs": [],
   "source": [
    "# some cleaning - note, no non values in myanmar\n",
    "lcvr = lcvr.drop('band').drop('spatial_ref')\n",
    "lcvr.name = 'landcover'\n",
    "lcvr = lcvr.to_dataset()\n",
    "lcvr = (\n",
    "    lcvr.rename({'x':'lon', 'y':'lat'})\n",
    "    .squeeze('band')\n",
    ")"
   ]
  },
  {
   "cell_type": "code",
   "execution_count": 0,
   "metadata": {
    "application/vnd.databricks.v1+cell": {
     "cellMetadata": {
      "byteLimit": 2048000,
      "rowLimit": 10000
     },
     "inputWidgets": {},
     "nuid": "366c22dc-086c-43f8-b075-a32f02270cc6",
     "showTitle": false,
     "tableResultSettingsMap": {},
     "title": ""
    }
   },
   "outputs": [],
   "source": [
    "lcvr = lcvr.to_dataframe()\n",
    "# total landcover coordinates\n",
    "print(lcvr.shape)\n",
    "lcvr = lcvr[lcvr['landcover'].isin(list(dct.keys()))]\n",
    "lcvr = lcvr.reset_index()\n",
    "# landcover coordinates after taking out ones not in legend and no data / water\n",
    "print(lcvr.shape)"
   ]
  },
  {
   "cell_type": "code",
   "execution_count": 0,
   "metadata": {
    "application/vnd.databricks.v1+cell": {
     "cellMetadata": {
      "byteLimit": 2048000,
      "rowLimit": 10000
     },
     "inputWidgets": {},
     "nuid": "bb1186a4-6b54-40a3-94fb-acb71a9a010b",
     "showTitle": false,
     "tableResultSettingsMap": {},
     "title": ""
    }
   },
   "outputs": [],
   "source": [
    "lcvr"
   ]
  },
  {
   "cell_type": "markdown",
   "metadata": {
    "application/vnd.databricks.v1+cell": {
     "cellMetadata": {},
     "inputWidgets": {},
     "nuid": "c27a0074-90f0-4fb5-806e-c646231c21db",
     "showTitle": false,
     "tableResultSettingsMap": {},
     "title": ""
    }
   },
   "source": [
    "### Landscan (annual)"
   ]
  },
  {
   "cell_type": "code",
   "execution_count": 0,
   "metadata": {
    "application/vnd.databricks.v1+cell": {
     "cellMetadata": {
      "byteLimit": 2048000,
      "rowLimit": 10000
     },
     "inputWidgets": {},
     "nuid": "a82a7170-91d6-4600-93b0-cafe0f1d2e96",
     "showTitle": false,
     "tableResultSettingsMap": {},
     "title": ""
    }
   },
   "outputs": [],
   "source": [
    "# path\n",
    "landscan_path = f'{dirpath}/landscan/landscan_global_2017.tif'\n",
    "# open transformed and clipped to myanmar\n",
    "with rasterio.open(landscan_path) as src:\n",
    "    with WarpedVRT(src, **vrt_options) as vrt:\n",
    "        lscn = rioxarray.open_rasterio(vrt)"
   ]
  },
  {
   "cell_type": "code",
   "execution_count": 0,
   "metadata": {
    "application/vnd.databricks.v1+cell": {
     "cellMetadata": {
      "byteLimit": 2048000,
      "rowLimit": 10000
     },
     "inputWidgets": {},
     "nuid": "85b830e6-4fe6-4109-99a3-7e1e672492a3",
     "showTitle": false,
     "tableResultSettingsMap": {},
     "title": ""
    }
   },
   "outputs": [],
   "source": [
    "# fill non value \n",
    "lscn = lscn.where(lscn != lscn.attrs['_FillValue'], np.nan)\n",
    "# some cleaning\n",
    "lscn = lscn.drop('band').drop('spatial_ref')\n",
    "lscn.name = 'landscan'\n",
    "lscn = lscn.to_dataset()\n",
    "lscn = (\n",
    "    lscn.rename({'x':'lon', 'y':'lat'})\n",
    "    .squeeze('band')\n",
    ")"
   ]
  },
  {
   "cell_type": "code",
   "execution_count": 0,
   "metadata": {
    "application/vnd.databricks.v1+cell": {
     "cellMetadata": {
      "byteLimit": 2048000,
      "rowLimit": 10000
     },
     "inputWidgets": {},
     "nuid": "02f04e3b-bde8-428c-9a29-eae5d4dfee30",
     "showTitle": false,
     "tableResultSettingsMap": {},
     "title": ""
    }
   },
   "outputs": [],
   "source": [
    "lscn = lscn.to_dataframe()\n",
    "lscn = lscn.reset_index()"
   ]
  },
  {
   "cell_type": "code",
   "execution_count": 0,
   "metadata": {
    "application/vnd.databricks.v1+cell": {
     "cellMetadata": {
      "byteLimit": 2048000,
      "rowLimit": 10000
     },
     "inputWidgets": {},
     "nuid": "c2930d67-8ba9-4161-8bd7-15c43c7785a2",
     "showTitle": false,
     "tableResultSettingsMap": {},
     "title": ""
    }
   },
   "outputs": [],
   "source": [
    "# merge together\n",
    "m = pd.merge(lcvr, lscn, how='inner')"
   ]
  },
  {
   "cell_type": "code",
   "execution_count": 0,
   "metadata": {
    "application/vnd.databricks.v1+cell": {
     "cellMetadata": {
      "byteLimit": 2048000,
      "rowLimit": 10000
     },
     "inputWidgets": {},
     "nuid": "990f93cf-06a6-456b-9a6f-2fd10cd79351",
     "showTitle": false,
     "tableResultSettingsMap": {},
     "title": ""
    }
   },
   "outputs": [],
   "source": [
    "# how many is nulls per column\n",
    "m.isnull().sum()"
   ]
  },
  {
   "cell_type": "code",
   "execution_count": 0,
   "metadata": {
    "application/vnd.databricks.v1+cell": {
     "cellMetadata": {
      "byteLimit": 2048000,
      "rowLimit": 10000
     },
     "inputWidgets": {},
     "nuid": "f3a831c3-5285-4b07-8a73-ea2527a3c891",
     "showTitle": false,
     "tableResultSettingsMap": {},
     "title": ""
    }
   },
   "outputs": [],
   "source": [
    "# dummify landcover\n",
    "dummies = pd.get_dummies(m['landcover'])\n",
    "dummies.columns = [str(int(col)) for col in dummies.columns]\n",
    "\n",
    "# concat together\n",
    "m = m.drop('landcover', axis=1)\n",
    "m = pd.concat([m, dummies], axis=1)"
   ]
  },
  {
   "cell_type": "code",
   "execution_count": 0,
   "metadata": {
    "application/vnd.databricks.v1+cell": {
     "cellMetadata": {
      "byteLimit": 2048000,
      "rowLimit": 10000
     },
     "inputWidgets": {},
     "nuid": "2a40ce53-b74e-4bef-ae1b-6fdae226ca47",
     "showTitle": false,
     "tableResultSettingsMap": {},
     "title": ""
    }
   },
   "outputs": [],
   "source": [
    "# declare schema, change to pyspark df, save\n",
    "schema = [StructField(\"lon\", FloatType(), True), StructField(\"lat\", FloatType(), True), StructField(\"landscan\", FloatType(), True)]\n",
    "schema2 = [StructField(col, IntegerType(), True) for col in m.columns if col not in ['lat', 'lon', 'landscan']]\n",
    "schema.extend(schema2)\n",
    "schema = StructType(schema)\n",
    "\n",
    "m = spark.createDataFrame(m, schema)\n",
    "display(m)"
   ]
  },
  {
   "cell_type": "code",
   "execution_count": 0,
   "metadata": {
    "application/vnd.databricks.v1+cell": {
     "cellMetadata": {
      "byteLimit": 2048000,
      "rowLimit": 10000
     },
     "inputWidgets": {},
     "nuid": "73340220-93b9-4bc9-b03c-db84424c335d",
     "showTitle": false,
     "tableResultSettingsMap": {},
     "title": ""
    }
   },
   "outputs": [],
   "source": [
    "m.write.mode('append').format('delta').saveAsTable(f'myanmar_ml.lcvr_ref_lscn_lcvr_2017')"
   ]
  },
  {
   "cell_type": "markdown",
   "metadata": {
    "application/vnd.databricks.v1+cell": {
     "cellMetadata": {},
     "inputWidgets": {},
     "nuid": "8ffc9967-14c7-4deb-add7-780c1db7fc30",
     "showTitle": false,
     "tableResultSettingsMap": {},
     "title": ""
    }
   },
   "source": [
    "### VIIRS (monthly)"
   ]
  },
  {
   "cell_type": "code",
   "execution_count": 0,
   "metadata": {
    "application/vnd.databricks.v1+cell": {
     "cellMetadata": {
      "byteLimit": 2048000,
      "rowLimit": 10000
     },
     "inputWidgets": {},
     "nuid": "f37bf89b-9e61-4d1b-9abf-cb0ef9568ef5",
     "showTitle": false,
     "tableResultSettingsMap": {},
     "title": ""
    }
   },
   "outputs": [],
   "source": [
    "viirs_lst = [file for file in os.listdir(f'{dirpath}/viirs/2017/') if re.search(\".tif\", file)]\n",
    "viirs_xarrays = []\n",
    "\n",
    "for file in viirs_lst:\n",
    "    # path\n",
    "    viirs_path = f'{dirpath}/viirs/2017/{file}'\n",
    "    # open transformed and clipped to myanmar\n",
    "    with rasterio.open(viirs_path) as src:\n",
    "        with WarpedVRT(src, **vrt_options) as vrt:\n",
    "            viirs = rioxarray.open_rasterio(vrt)\n",
    "            \n",
    "    # process one month dataset    \n",
    "    yearmonth_tif = file.split('_')[-1]\n",
    "    year = int(yearmonth_tif[:4])\n",
    "    month = int(yearmonth_tif[4:6])\n",
    "    \n",
    "    # fill non value \n",
    "    viirs = viirs.where(viirs != viirs.attrs['_FillValue'], np.nan)\n",
    "    # some cleaning\n",
    "    viirs = viirs.drop('band').drop('spatial_ref')\n",
    "    viirs.name = 'viirs'\n",
    "    viirs = viirs.to_dataset()\n",
    "    viirs = (\n",
    "        viirs.expand_dims({'time':[datetime.date(year, month, 1)]})\n",
    "        .rename({'x':'lon', 'y':'lat'})\n",
    "        .squeeze('band')\n",
    "    )\n",
    "    viirs_xarrays.append(viirs)"
   ]
  },
  {
   "cell_type": "code",
   "execution_count": 0,
   "metadata": {
    "application/vnd.databricks.v1+cell": {
     "cellMetadata": {
      "byteLimit": 2048000,
      "rowLimit": 10000
     },
     "inputWidgets": {},
     "nuid": "5499843e-fbcf-492a-8e3d-81e51e84226a",
     "showTitle": false,
     "tableResultSettingsMap": {},
     "title": ""
    }
   },
   "outputs": [],
   "source": [
    "# check\n",
    "print(len(viirs_xarrays))\n",
    "viirs_all = xr.combine_by_coords(viirs_xarrays, combine_attrs='drop')\n",
    "viirs_all"
   ]
  },
  {
   "cell_type": "code",
   "execution_count": 0,
   "metadata": {
    "application/vnd.databricks.v1+cell": {
     "cellMetadata": {
      "byteLimit": 2048000,
      "rowLimit": 10000
     },
     "inputWidgets": {},
     "nuid": "88f0a5bc-413e-4416-9422-8e59e84b3e25",
     "showTitle": false,
     "tableResultSettingsMap": {},
     "title": ""
    }
   },
   "outputs": [],
   "source": [
    "viirs_all = viirs_all.to_dataframe()\n",
    "viirs_all = viirs_all.reset_index()\n",
    "viirs_all"
   ]
  },
  {
   "cell_type": "code",
   "execution_count": 0,
   "metadata": {
    "application/vnd.databricks.v1+cell": {
     "cellMetadata": {
      "byteLimit": 2048000,
      "rowLimit": 10000
     },
     "inputWidgets": {},
     "nuid": "050afb02-8e40-42fc-b159-cc58e63e8d2d",
     "showTitle": false,
     "tableResultSettingsMap": {},
     "title": ""
    }
   },
   "outputs": [],
   "source": [
    "m = pd.merge(viirs_all, lcvr, how='inner')"
   ]
  },
  {
   "cell_type": "code",
   "execution_count": 0,
   "metadata": {
    "application/vnd.databricks.v1+cell": {
     "cellMetadata": {
      "byteLimit": 2048000,
      "rowLimit": 10000
     },
     "inputWidgets": {},
     "nuid": "f3c35258-b650-482f-9b6b-88e72c6cca24",
     "showTitle": false,
     "tableResultSettingsMap": {},
     "title": ""
    }
   },
   "outputs": [],
   "source": [
    "print(m.shape)\n",
    "m.isnull().sum()"
   ]
  },
  {
   "cell_type": "code",
   "execution_count": 0,
   "metadata": {
    "application/vnd.databricks.v1+cell": {
     "cellMetadata": {
      "byteLimit": 2048000,
      "rowLimit": 10000
     },
     "inputWidgets": {},
     "nuid": "727fa752-3e70-4b71-9591-f4cde492b94f",
     "showTitle": false,
     "tableResultSettingsMap": {},
     "title": ""
    }
   },
   "outputs": [],
   "source": [
    "m = m.drop('landcover', axis=1)"
   ]
  },
  {
   "cell_type": "code",
   "execution_count": 0,
   "metadata": {
    "application/vnd.databricks.v1+cell": {
     "cellMetadata": {
      "byteLimit": 2048000,
      "rowLimit": 10000
     },
     "inputWidgets": {},
     "nuid": "e81f5352-5ca1-4b44-8308-d01971c4d10e",
     "showTitle": false,
     "tableResultSettingsMap": {},
     "title": ""
    }
   },
   "outputs": [],
   "source": [
    "schema = StructType([StructField(\"time\", DateType(), True), StructField(\"lon\", FloatType(), True), StructField(\"lat\", FloatType(), True), StructField('viirs', FloatType(), True)])\n",
    "m = spark.createDataFrame(m, schema)"
   ]
  },
  {
   "cell_type": "code",
   "execution_count": 0,
   "metadata": {
    "application/vnd.databricks.v1+cell": {
     "cellMetadata": {
      "byteLimit": 2048000,
      "rowLimit": 10000
     },
     "inputWidgets": {},
     "nuid": "0545fccb-dd16-4029-aa3b-f5f5c553a10c",
     "showTitle": false,
     "tableResultSettingsMap": {},
     "title": ""
    }
   },
   "outputs": [],
   "source": [
    "m.write.mode('append').format('delta').saveAsTable(f'myanmar_ml.lcvr_ref_viirs_2017')"
   ]
  },
  {
   "cell_type": "markdown",
   "metadata": {
    "application/vnd.databricks.v1+cell": {
     "cellMetadata": {},
     "inputWidgets": {},
     "nuid": "00ca6e2d-b579-484e-8007-f36048731aa9",
     "showTitle": false,
     "tableResultSettingsMap": {},
     "title": ""
    }
   },
   "source": [
    "### FLDAS (monthly)"
   ]
  },
  {
   "cell_type": "code",
   "execution_count": 0,
   "metadata": {
    "application/vnd.databricks.v1+cell": {
     "cellMetadata": {
      "byteLimit": 2048000,
      "rowLimit": 10000
     },
     "inputWidgets": {},
     "nuid": "c2a2cb98-7197-4c1b-bed1-4fd3539510ab",
     "showTitle": false,
     "tableResultSettingsMap": {},
     "title": ""
    }
   },
   "outputs": [],
   "source": [
    "# all_vars = ['Evap_tavg','LWdown_f_tavg','Lwnet_tavg','Psurf_f_tavg','Qair_f_tavg','Qg_tavg','Qh_tavg','Qle_tavg','Qs_tavg','Qsb_tavg','RadT_tavg','Rainf_f_tavg','SWE_inst','SWdown_f_tavg','SnowCover_inst','SnowDepth_inst','Snowf_tavg','Swnet_tavg','Tair_f_tavg','Wind_f_tavg','SoilMoi00_10cm_tavg','SoilMoi10_40cm_tavg','SoilMoi40_100cm_tavg','SoilMoi100_200cm_tavg','SoilTemp00_10cm_tavg','SoilTemp10_40cm_tavg','SoilTemp40_100cm_tavg','SoilTemp100_200cm_tavg']\n",
    "fldas_vars = ['Evap_tavg','Rainf_f_tavg','Tair_f_tavg','SoilMoi00_10cm_tavg','SoilMoi10_40cm_tavg','SoilMoi40_100cm_tavg','SoilMoi100_200cm_tavg','Qair_f_tavg','Qg_tavg','Qh_tavg','Qs_tavg']"
   ]
  },
  {
   "cell_type": "code",
   "execution_count": 0,
   "metadata": {
    "application/vnd.databricks.v1+cell": {
     "cellMetadata": {
      "byteLimit": 2048000,
      "rowLimit": 10000
     },
     "inputWidgets": {},
     "nuid": "2acd3029-5c92-447e-bd10-8c1366e4323a",
     "showTitle": false,
     "tableResultSettingsMap": {},
     "title": ""
    }
   },
   "outputs": [],
   "source": [
    "fldas_lst = [file for file in os.listdir(f'{dirpath}/fldas/2017/') if re.search(\".nc\", file)]\n",
    "fldas_xarrays = []\n",
    "\n",
    "for file in fldas_lst:\n",
    "    for var in fldas_vars:\n",
    "        # path\n",
    "        fldas_path = f'netcdf:{dirpath}/fldas/2017/{file}:{var}'\n",
    "        # open transformed and clipped to myanmar\n",
    "        with rasterio.open(fldas_path) as src:\n",
    "            with WarpedVRT(src, **vrt_options) as vrt:\n",
    "                fldas = rioxarray.open_rasterio(vrt)\n",
    "\n",
    "        # process one month dataset    \n",
    "        yearmonth = file.split('_')[-2]\n",
    "        year = int(yearmonth[1:5])\n",
    "        month = int(yearmonth[5:7])\n",
    "        \n",
    "        # fill non value \n",
    "        fldas = fldas.where(fldas != fldas.attrs['_FillValue'], np.nan)\n",
    "        # some cleaning\n",
    "        fldas = fldas.drop('band').drop('spatial_ref')\n",
    "        fldas.name = var\n",
    "        fldas = fldas.to_dataset()\n",
    "        fldas = (\n",
    "            fldas.expand_dims({'time':[datetime.date(year, month, 1)], 'source':['fldas']})\n",
    "            .rename({'x':'lon', 'y':'lat'})\n",
    "            .squeeze('band')\n",
    "        )\n",
    "        fldas_xarrays.append(fldas)"
   ]
  },
  {
   "cell_type": "code",
   "execution_count": 0,
   "metadata": {
    "application/vnd.databricks.v1+cell": {
     "cellMetadata": {
      "byteLimit": 2048000,
      "rowLimit": 10000
     },
     "inputWidgets": {},
     "nuid": "374e7746-66f5-43b8-9844-5d6a598cffdc",
     "showTitle": false,
     "tableResultSettingsMap": {},
     "title": ""
    },
    "scrolled": true
   },
   "outputs": [],
   "source": [
    "# check\n",
    "print(len(fldas_xarrays))\n",
    "fldas_all = xr.combine_by_coords(fldas_xarrays, combine_attrs='drop')\n",
    "fldas_all"
   ]
  },
  {
   "cell_type": "code",
   "execution_count": 0,
   "metadata": {
    "application/vnd.databricks.v1+cell": {
     "cellMetadata": {
      "byteLimit": 2048000,
      "rowLimit": 10000
     },
     "inputWidgets": {},
     "nuid": "9ddd40e1-5360-4868-b6a8-e8f425c0b1df",
     "showTitle": false,
     "tableResultSettingsMap": {},
     "title": ""
    }
   },
   "outputs": [],
   "source": [
    "fldas_all = fldas_all.to_dataframe()\n",
    "fldas_all = fldas_all.reset_index()"
   ]
  },
  {
   "cell_type": "code",
   "execution_count": 0,
   "metadata": {
    "application/vnd.databricks.v1+cell": {
     "cellMetadata": {
      "byteLimit": 2048000,
      "rowLimit": 10000
     },
     "inputWidgets": {},
     "nuid": "f606b5f6-7721-42f8-a45b-32fcb2fa51b8",
     "showTitle": false,
     "tableResultSettingsMap": {},
     "title": ""
    }
   },
   "outputs": [],
   "source": [
    "m = pd.merge(fldas_all, lcvr, how='inner')"
   ]
  },
  {
   "cell_type": "code",
   "execution_count": 0,
   "metadata": {
    "application/vnd.databricks.v1+cell": {
     "cellMetadata": {
      "byteLimit": 2048000,
      "rowLimit": 10000
     },
     "inputWidgets": {},
     "nuid": "8940ac0d-8b5a-446d-a7c4-6dc8603085aa",
     "showTitle": false,
     "tableResultSettingsMap": {},
     "title": ""
    }
   },
   "outputs": [],
   "source": [
    "print(m.shape)\n",
    "m.isnull().sum()"
   ]
  },
  {
   "cell_type": "code",
   "execution_count": 0,
   "metadata": {
    "application/vnd.databricks.v1+cell": {
     "cellMetadata": {
      "byteLimit": 2048000,
      "rowLimit": 10000
     },
     "inputWidgets": {},
     "nuid": "2bdbcf4d-dd68-4e59-822d-4b9d0c0e8c8c",
     "showTitle": false,
     "tableResultSettingsMap": {},
     "title": ""
    }
   },
   "outputs": [],
   "source": [
    "m = m.drop(['source', 'landcover'], axis=1)"
   ]
  },
  {
   "cell_type": "code",
   "execution_count": 0,
   "metadata": {
    "application/vnd.databricks.v1+cell": {
     "cellMetadata": {
      "byteLimit": 2048000,
      "rowLimit": 10000
     },
     "inputWidgets": {},
     "nuid": "7a382178-1205-4dc3-923d-494aa94106ac",
     "showTitle": false,
     "tableResultSettingsMap": {},
     "title": ""
    }
   },
   "outputs": [],
   "source": [
    "schema = [StructField(\"time\", DateType(), True), StructField(\"lon\", FloatType(), True), StructField(\"lat\", FloatType(), True)]\n",
    "\n",
    "schema2 = [StructField(col, FloatType(), True) for col in m.columns if col not in ['time', 'lat', 'lon']]\n",
    "schema.extend(schema2)\n",
    "schema = StructType(schema)"
   ]
  },
  {
   "cell_type": "code",
   "execution_count": 0,
   "metadata": {
    "application/vnd.databricks.v1+cell": {
     "cellMetadata": {
      "byteLimit": 2048000,
      "rowLimit": 10000
     },
     "inputWidgets": {},
     "nuid": "8a1c1255-560c-44c1-a203-d7bc88bfab51",
     "showTitle": false,
     "tableResultSettingsMap": {},
     "title": ""
    }
   },
   "outputs": [],
   "source": [
    "m = spark.createDataFrame(m, schema)"
   ]
  },
  {
   "cell_type": "code",
   "execution_count": 0,
   "metadata": {
    "application/vnd.databricks.v1+cell": {
     "cellMetadata": {
      "byteLimit": 2048000,
      "rowLimit": 10000
     },
     "inputWidgets": {},
     "nuid": "a4791159-7586-4b2a-b5e0-19d2b7e3a827",
     "showTitle": false,
     "tableResultSettingsMap": {},
     "title": ""
    }
   },
   "outputs": [],
   "source": [
    "m.write.mode('append').format('delta').saveAsTable(f'myanmar_ml.lcvr_ref_fldas_2017')"
   ]
  },
  {
   "cell_type": "code",
   "execution_count": 0,
   "metadata": {
    "application/vnd.databricks.v1+cell": {
     "cellMetadata": {},
     "inputWidgets": {},
     "nuid": "3991b824-b116-4ac5-8ca7-947198b20617",
     "showTitle": false,
     "tableResultSettingsMap": {},
     "title": ""
    }
   },
   "outputs": [],
   "source": []
  }
 ],
 "metadata": {
  "application/vnd.databricks.v1+notebook": {
   "computePreferences": null,
   "dashboards": [
    {
     "elements": [
      {
       "dashboardResultIndex": 0,
       "elementNUID": "00ca6e2d-b579-484e-8007-f36048731aa9",
       "elementType": "command",
       "guid": "d4480873-8cd3-4e33-8caa-e75e60ab9cb3",
       "options": null,
       "position": {
        "height": 2,
        "width": 12,
        "x": 0,
        "y": 0,
        "z": null
       },
       "resultIndex": null
      }
     ],
     "globalVars": {},
     "guid": "",
     "layoutOption": {
      "grid": true,
      "stack": true
     },
     "nuid": "79975a39-7621-4f48-9282-f20895419366",
     "origId": 1349444911230017,
     "title": "Untitled",
     "version": "DashboardViewV1",
     "width": 1024
    }
   ],
   "environmentMetadata": null,
   "language": "python",
   "notebookMetadata": {
    "pythonIndentUnit": 4
   },
   "notebookName": "2_process_x",
   "widgets": {}
  },
  "kernelspec": {
   "display_name": "Python 3 (ipykernel)",
   "language": "python",
   "name": "python3"
  },
  "language_info": {
   "name": "python"
  }
 },
 "nbformat": 4,
 "nbformat_minor": 0
}
