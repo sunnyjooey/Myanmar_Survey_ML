{
 "cells": [
  {
   "cell_type": "code",
   "execution_count": 12,
   "id": "9e35899c",
   "metadata": {},
   "outputs": [],
   "source": [
    "import requests"
   ]
  },
  {
   "cell_type": "code",
   "execution_count": 13,
   "id": "e0597862",
   "metadata": {},
   "outputs": [],
   "source": [
    "dirpath = '/Users/Sun-jooLee/Git_Projects/Myanmar_Survey_ML/data/geo'"
   ]
  },
  {
   "cell_type": "markdown",
   "id": "c89080d5",
   "metadata": {},
   "source": [
    "### VIIRS Download"
   ]
  },
  {
   "cell_type": "code",
   "execution_count": 14,
   "id": "78b5201c",
   "metadata": {},
   "outputs": [],
   "source": [
    "viirs_lst = [\n",
    "    'https://eogdata.mines.edu/nighttime_light/monthly_notile/v10/2017/201701/vcmcfg/SVDNB_npp_20170101-20170131_global_vcmcfg_v10_c201702241223.avg_rade9h.tif',\n",
    "    'https://eogdata.mines.edu/nighttime_light/monthly_notile/v10/2017/201702/vcmcfg/SVDNB_npp_20170201-20170228_global_vcmcfg_v10_c201703012030.avg_rade9h.tif',\n",
    "    'https://eogdata.mines.edu/nighttime_light/monthly_notile/v10/2017/201703/vcmcfg/SVDNB_npp_20170301-20170331_global_vcmcfg_v10_c201705020851.avg_rade9h.tif',\n",
    "    'https://eogdata.mines.edu/nighttime_light/monthly_notile/v10/2017/201704/vcmcfg/SVDNB_npp_20170401-20170430_global_vcmcfg_v10_c201705011300.avg_rade9h.tif',\n",
    "    'https://eogdata.mines.edu/nighttime_light/monthly_notile/v10/2017/201705/vcmcfg/SVDNB_npp_20170501-20170531_global_vcmcfg_v10_c201706021500.avg_rade9h.tif',\n",
    "    'https://eogdata.mines.edu/nighttime_light/monthly_notile/v10/2017/201706/vcmcfg/SVDNB_npp_20170601-20170630_global_vcmcfg_v10_c201707021700.avg_rade9h.tif',\n",
    "    'https://eogdata.mines.edu/nighttime_light/monthly_notile/v10/2017/201707/vcmcfg/SVDNB_npp_20170701-20170731_global_vcmcfg_v10_c201708061230.avg_rade9h.tif',\n",
    "    'https://eogdata.mines.edu/nighttime_light/monthly_notile/v10/2017/201708/vcmcfg/SVDNB_npp_20170801-20170831_global_vcmcfg_v10_c201709051000.avg_rade9h.tif',\n",
    "    'https://eogdata.mines.edu/nighttime_light/monthly_notile/v10/2017/201709/vcmcfg/SVDNB_npp_20170901-20170930_global_vcmcfg_v10_c201710041620.avg_rade9h.tif',\n",
    "    'https://eogdata.mines.edu/nighttime_light/monthly_notile/v10/2017/201710/vcmcfg/SVDNB_npp_20171001-20171031_global_vcmcfg_v10_c201711021230.avg_rade9h.tif',\n",
    "    'https://eogdata.mines.edu/nighttime_light/monthly_notile/v10/2017/201711/vcmcfg/SVDNB_npp_20171101-20171130_global_vcmcfg_v10_c201712040930.avg_rade9h.tif',\n",
    "    'https://eogdata.mines.edu/nighttime_light/monthly_notile/v10/2017/201712/vcmcfg/SVDNB_npp_20171201-20171231_global_vcmcfg_v10_c201801021747.avg_rade9h.tif'\n",
    "]"
   ]
  },
  {
   "cell_type": "code",
   "execution_count": 15,
   "id": "7497a902",
   "metadata": {},
   "outputs": [
    {
     "name": "stdout",
     "output_type": "stream",
     "text": [
      "201709\n",
      "201710\n",
      "201711\n",
      "201712\n"
     ]
    }
   ],
   "source": [
    "# download chunk size\n",
    "CHUNK = 2 ** 10\n",
    "\n",
    "for url in viirs_lst:\n",
    "    # save the global file\n",
    "    year_month = url.split('/')[-3]\n",
    "    year = year_month[:4]\n",
    "    globfile = f'{dirpath}/viirs/{year}/vcmcfg_avg_rade9h_{year_month}.tif'\n",
    "    with open(globfile, 'wb') as f:\n",
    "        ret = requests.get(url, stream=True)\n",
    "        for data in ret.iter_content(CHUNK):\n",
    "            f.write(data)\n",
    "    print(year_month)"
   ]
  },
  {
   "cell_type": "markdown",
   "id": "aabec5ff",
   "metadata": {},
   "source": [
    "### FLDAS Download"
   ]
  },
  {
   "cell_type": "code",
   "execution_count": 16,
   "id": "5746d9e3",
   "metadata": {},
   "outputs": [],
   "source": [
    "fld_lst = [\n",
    "    'https://data.gesdisc.earthdata.nasa.gov/data/FLDAS/FLDAS_NOAH01_C_GL_M.001/2017/FLDAS_NOAH01_C_GL_M.A201701.001.nc',\n",
    "    'https://data.gesdisc.earthdata.nasa.gov/data/FLDAS/FLDAS_NOAH01_C_GL_M.001/2017/FLDAS_NOAH01_C_GL_M.A201702.001.nc',\n",
    "    'https://data.gesdisc.earthdata.nasa.gov/data/FLDAS/FLDAS_NOAH01_C_GL_M.001/2017/FLDAS_NOAH01_C_GL_M.A201703.001.nc',\n",
    "    'https://data.gesdisc.earthdata.nasa.gov/data/FLDAS/FLDAS_NOAH01_C_GL_M.001/2017/FLDAS_NOAH01_C_GL_M.A201704.001.nc',\n",
    "    'https://data.gesdisc.earthdata.nasa.gov/data/FLDAS/FLDAS_NOAH01_C_GL_M.001/2017/FLDAS_NOAH01_C_GL_M.A201705.001.nc',\n",
    "    'https://data.gesdisc.earthdata.nasa.gov/data/FLDAS/FLDAS_NOAH01_C_GL_M.001/2017/FLDAS_NOAH01_C_GL_M.A201706.001.nc',\n",
    "    'https://data.gesdisc.earthdata.nasa.gov/data/FLDAS/FLDAS_NOAH01_C_GL_M.001/2017/FLDAS_NOAH01_C_GL_M.A201707.001.nc',\n",
    "    'https://data.gesdisc.earthdata.nasa.gov/data/FLDAS/FLDAS_NOAH01_C_GL_M.001/2017/FLDAS_NOAH01_C_GL_M.A201708.001.nc',\n",
    "    'https://data.gesdisc.earthdata.nasa.gov/data/FLDAS/FLDAS_NOAH01_C_GL_M.001/2017/FLDAS_NOAH01_C_GL_M.A201709.001.nc',\n",
    "    'https://data.gesdisc.earthdata.nasa.gov/data/FLDAS/FLDAS_NOAH01_C_GL_M.001/2017/FLDAS_NOAH01_C_GL_M.A201710.001.nc',\n",
    "    'https://data.gesdisc.earthdata.nasa.gov/data/FLDAS/FLDAS_NOAH01_C_GL_M.001/2017/FLDAS_NOAH01_C_GL_M.A201711.001.nc',\n",
    "    'https://data.gesdisc.earthdata.nasa.gov/data/FLDAS/FLDAS_NOAH01_C_GL_M.001/2017/FLDAS_NOAH01_C_GL_M.A201712.001.nc'\n",
    "]"
   ]
  },
  {
   "cell_type": "code",
   "execution_count": 17,
   "id": "eefbefc0",
   "metadata": {},
   "outputs": [
    {
     "name": "stdout",
     "output_type": "stream",
     "text": [
      "201701\n",
      "201702\n",
      "201703\n",
      "201704\n",
      "201705\n",
      "201706\n",
      "201707\n",
      "201708\n",
      "201709\n",
      "201710\n",
      "201711\n",
      "201712\n"
     ]
    }
   ],
   "source": [
    "for url in fld_lst:\n",
    "    # save the global file\n",
    "    year_month = url.split('.')[-3][1:]\n",
    "    year = year_month[:4]\n",
    "    globfile = f'{dirpath}/fldas/{year}/FLDAS_NOAH01_C_GL_M.A{year_month}.001.nc'\n",
    "    \n",
    "    result = requests.get(url)\n",
    "    result.raise_for_status()\n",
    "    f = open(globfile, 'wb')\n",
    "    f.write(result.content)\n",
    "    f.close()\n",
    "    print(year_month)"
   ]
  },
  {
   "cell_type": "code",
   "execution_count": null,
   "id": "cbcaf804",
   "metadata": {},
   "outputs": [],
   "source": []
  }
 ],
 "metadata": {
  "kernelspec": {
   "display_name": "Python 3 (ipykernel)",
   "language": "python",
   "name": "python3"
  },
  "language_info": {
   "codemirror_mode": {
    "name": "ipython",
    "version": 3
   },
   "file_extension": ".py",
   "mimetype": "text/x-python",
   "name": "python",
   "nbconvert_exporter": "python",
   "pygments_lexer": "ipython3",
   "version": "3.9.7"
  }
 },
 "nbformat": 4,
 "nbformat_minor": 5
}
