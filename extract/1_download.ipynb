{
 "cells": [
  {
   "cell_type": "code",
   "execution_count": 0,
   "metadata": {
    "application/vnd.databricks.v1+cell": {
     "cellMetadata": {},
     "inputWidgets": {},
     "nuid": "0b83d747-2edb-4d2b-9e67-0b376d8b3983",
     "showTitle": false,
     "title": ""
    }
   },
   "outputs": [],
   "source": [
    "import requests"
   ]
  },
  {
   "cell_type": "code",
   "execution_count": 0,
   "metadata": {
    "application/vnd.databricks.v1+cell": {
     "cellMetadata": {},
     "inputWidgets": {},
     "nuid": "f2726b72-7e95-4502-b79d-2705df73cdc5",
     "showTitle": false,
     "title": ""
    }
   },
   "outputs": [],
   "source": [
    "dirpath = '/Users/Sun-jooLee/Git_Projects/Myanmar_Survey_ML/data/geo'"
   ]
  },
  {
   "cell_type": "markdown",
   "metadata": {
    "application/vnd.databricks.v1+cell": {
     "cellMetadata": {},
     "inputWidgets": {},
     "nuid": "c06fbbd9-86fe-41f7-878e-1991b597e90b",
     "showTitle": false,
     "title": ""
    }
   },
   "source": [
    "### VIIRS Download"
   ]
  },
  {
   "cell_type": "code",
   "execution_count": 0,
   "metadata": {
    "application/vnd.databricks.v1+cell": {
     "cellMetadata": {},
     "inputWidgets": {},
     "nuid": "d64a6c7f-f96d-42f0-8438-d3c39634f182",
     "showTitle": false,
     "title": ""
    }
   },
   "outputs": [],
   "source": [
    "viirs_lst = [\n",
    "    'https://eogdata.mines.edu/nighttime_light/monthly_notile/v10/2017/201701/vcmcfg/SVDNB_npp_20170101-20170131_global_vcmcfg_v10_c201702241223.avg_rade9h.tif',\n",
    "    'https://eogdata.mines.edu/nighttime_light/monthly_notile/v10/2017/201702/vcmcfg/SVDNB_npp_20170201-20170228_global_vcmcfg_v10_c201703012030.avg_rade9h.tif',\n",
    "    'https://eogdata.mines.edu/nighttime_light/monthly_notile/v10/2017/201703/vcmcfg/SVDNB_npp_20170301-20170331_global_vcmcfg_v10_c201705020851.avg_rade9h.tif',\n",
    "    'https://eogdata.mines.edu/nighttime_light/monthly_notile/v10/2017/201704/vcmcfg/SVDNB_npp_20170401-20170430_global_vcmcfg_v10_c201705011300.avg_rade9h.tif',\n",
    "    'https://eogdata.mines.edu/nighttime_light/monthly_notile/v10/2017/201705/vcmcfg/SVDNB_npp_20170501-20170531_global_vcmcfg_v10_c201706021500.avg_rade9h.tif',\n",
    "    'https://eogdata.mines.edu/nighttime_light/monthly_notile/v10/2017/201706/vcmcfg/SVDNB_npp_20170601-20170630_global_vcmcfg_v10_c201707021700.avg_rade9h.tif',\n",
    "    'https://eogdata.mines.edu/nighttime_light/monthly_notile/v10/2017/201707/vcmcfg/SVDNB_npp_20170701-20170731_global_vcmcfg_v10_c201708061230.avg_rade9h.tif',\n",
    "    'https://eogdata.mines.edu/nighttime_light/monthly_notile/v10/2017/201708/vcmcfg/SVDNB_npp_20170801-20170831_global_vcmcfg_v10_c201709051000.avg_rade9h.tif',\n",
    "    'https://eogdata.mines.edu/nighttime_light/monthly_notile/v10/2017/201709/vcmcfg/SVDNB_npp_20170901-20170930_global_vcmcfg_v10_c201710041620.avg_rade9h.tif',\n",
    "    'https://eogdata.mines.edu/nighttime_light/monthly_notile/v10/2017/201710/vcmcfg/SVDNB_npp_20171001-20171031_global_vcmcfg_v10_c201711021230.avg_rade9h.tif',\n",
    "    'https://eogdata.mines.edu/nighttime_light/monthly_notile/v10/2017/201711/vcmcfg/SVDNB_npp_20171101-20171130_global_vcmcfg_v10_c201712040930.avg_rade9h.tif',\n",
    "    'https://eogdata.mines.edu/nighttime_light/monthly_notile/v10/2017/201712/vcmcfg/SVDNB_npp_20171201-20171231_global_vcmcfg_v10_c201801021747.avg_rade9h.tif'\n",
    "]"
   ]
  },
  {
   "cell_type": "code",
   "execution_count": 0,
   "metadata": {
    "application/vnd.databricks.v1+cell": {
     "cellMetadata": {},
     "inputWidgets": {},
     "nuid": "c34d16b0-3c5d-4809-af9a-70e6d8d55271",
     "showTitle": false,
     "title": ""
    }
   },
   "outputs": [],
   "source": [
    "# download chunk size\n",
    "CHUNK = 2 ** 10\n",
    "\n",
    "for url in viirs_lst:\n",
    "    # save the global file\n",
    "    year_month = url.split('/')[-3]\n",
    "    year = year_month[:4]\n",
    "    globfile = f'{dirpath}/viirs/{year}/vcmcfg_avg_rade9h_{year_month}.tif'\n",
    "    with open(globfile, 'wb') as f:\n",
    "        ret = requests.get(url, stream=True)\n",
    "        for data in ret.iter_content(CHUNK):\n",
    "            f.write(data)\n",
    "    print(year_month)"
   ]
  },
  {
   "cell_type": "markdown",
   "metadata": {
    "application/vnd.databricks.v1+cell": {
     "cellMetadata": {},
     "inputWidgets": {},
     "nuid": "14390502-c7b3-47b4-abf0-66925164aee7",
     "showTitle": false,
     "title": ""
    }
   },
   "source": [
    "### FLDAS Download"
   ]
  },
  {
   "cell_type": "code",
   "execution_count": 0,
   "metadata": {
    "application/vnd.databricks.v1+cell": {
     "cellMetadata": {},
     "inputWidgets": {},
     "nuid": "d275bfd8-7643-47ed-a4e5-34a3e72bcd1c",
     "showTitle": false,
     "title": ""
    }
   },
   "outputs": [],
   "source": [
    "fld_lst = [\n",
    "    'https://data.gesdisc.earthdata.nasa.gov/data/FLDAS/FLDAS_NOAH01_C_GL_M.001/2017/FLDAS_NOAH01_C_GL_M.A201701.001.nc',\n",
    "    'https://data.gesdisc.earthdata.nasa.gov/data/FLDAS/FLDAS_NOAH01_C_GL_M.001/2017/FLDAS_NOAH01_C_GL_M.A201702.001.nc',\n",
    "    'https://data.gesdisc.earthdata.nasa.gov/data/FLDAS/FLDAS_NOAH01_C_GL_M.001/2017/FLDAS_NOAH01_C_GL_M.A201703.001.nc',\n",
    "    'https://data.gesdisc.earthdata.nasa.gov/data/FLDAS/FLDAS_NOAH01_C_GL_M.001/2017/FLDAS_NOAH01_C_GL_M.A201704.001.nc',\n",
    "    'https://data.gesdisc.earthdata.nasa.gov/data/FLDAS/FLDAS_NOAH01_C_GL_M.001/2017/FLDAS_NOAH01_C_GL_M.A201705.001.nc',\n",
    "    'https://data.gesdisc.earthdata.nasa.gov/data/FLDAS/FLDAS_NOAH01_C_GL_M.001/2017/FLDAS_NOAH01_C_GL_M.A201706.001.nc',\n",
    "    'https://data.gesdisc.earthdata.nasa.gov/data/FLDAS/FLDAS_NOAH01_C_GL_M.001/2017/FLDAS_NOAH01_C_GL_M.A201707.001.nc',\n",
    "    'https://data.gesdisc.earthdata.nasa.gov/data/FLDAS/FLDAS_NOAH01_C_GL_M.001/2017/FLDAS_NOAH01_C_GL_M.A201708.001.nc',\n",
    "    'https://data.gesdisc.earthdata.nasa.gov/data/FLDAS/FLDAS_NOAH01_C_GL_M.001/2017/FLDAS_NOAH01_C_GL_M.A201709.001.nc',\n",
    "    'https://data.gesdisc.earthdata.nasa.gov/data/FLDAS/FLDAS_NOAH01_C_GL_M.001/2017/FLDAS_NOAH01_C_GL_M.A201710.001.nc',\n",
    "    'https://data.gesdisc.earthdata.nasa.gov/data/FLDAS/FLDAS_NOAH01_C_GL_M.001/2017/FLDAS_NOAH01_C_GL_M.A201711.001.nc',\n",
    "    'https://data.gesdisc.earthdata.nasa.gov/data/FLDAS/FLDAS_NOAH01_C_GL_M.001/2017/FLDAS_NOAH01_C_GL_M.A201712.001.nc'\n",
    "]"
   ]
  },
  {
   "cell_type": "code",
   "execution_count": 0,
   "metadata": {
    "application/vnd.databricks.v1+cell": {
     "cellMetadata": {},
     "inputWidgets": {},
     "nuid": "81f41219-d4f2-4578-942a-17cf7439a297",
     "showTitle": false,
     "title": ""
    }
   },
   "outputs": [],
   "source": [
    "for url in fld_lst:\n",
    "    # save the global file\n",
    "    year_month = url.split('.')[-3][1:]\n",
    "    year = year_month[:4]\n",
    "    globfile = f'{dirpath}/fldas/{year}/FLDAS_NOAH01_C_GL_M.A{year_month}.001.nc'\n",
    "    \n",
    "    result = requests.get(url)\n",
    "    result.raise_for_status()\n",
    "    f = open(globfile, 'wb')\n",
    "    f.write(result.content)\n",
    "    f.close()\n",
    "    print(year_month)"
   ]
  },
  {
   "cell_type": "code",
   "execution_count": 0,
   "metadata": {
    "application/vnd.databricks.v1+cell": {
     "cellMetadata": {},
     "inputWidgets": {},
     "nuid": "d9152ffd-455c-4670-95b7-9d0d27346956",
     "showTitle": false,
     "title": ""
    }
   },
   "outputs": [],
   "source": []
  }
 ],
 "metadata": {
  "application/vnd.databricks.v1+notebook": {
   "dashboards": [],
   "language": "python",
   "notebookMetadata": {
    "pythonIndentUnit": 4
   },
   "notebookName": "1_download",
   "widgets": {}
  },
  "kernelspec": {
   "display_name": "Python 3 (ipykernel)",
   "language": "python",
   "name": "python3"
  },
  "language_info": {
   "codemirror_mode": {
    "name": "ipython",
    "version": 3
   },
   "file_extension": ".py",
   "mimetype": "text/x-python",
   "name": "python",
   "nbconvert_exporter": "python",
   "pygments_lexer": "ipython3",
   "version": "3.9.7"
  }
 },
 "nbformat": 4,
 "nbformat_minor": 0
}
