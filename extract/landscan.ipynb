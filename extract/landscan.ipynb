{
 "cells": [
  {
   "cell_type": "code",
   "execution_count": null,
   "id": "fa81cc0d",
   "metadata": {},
   "outputs": [],
   "source": [
    "# Notes - landscan will be the reference grid"
   ]
  },
  {
   "cell_type": "code",
   "execution_count": null,
   "id": "965335e9",
   "metadata": {},
   "outputs": [],
   "source": [
    "!pip install rasterio\n",
    "!pip install pyproj"
   ]
  },
  {
   "cell_type": "code",
   "execution_count": 1,
   "id": "c105f236",
   "metadata": {},
   "outputs": [],
   "source": [
    "import os\n",
    "\n",
    "import rasterio\n",
    "from rasterio.windows import Window, from_bounds\n",
    "from rasterio.warp import Resampling\n",
    "from rasterio.vrt import WarpedVRT\n",
    "from rasterio import shutil as rio_shutil"
   ]
  },
  {
   "cell_type": "code",
   "execution_count": 2,
   "id": "9b5687c3",
   "metadata": {},
   "outputs": [],
   "source": [
    "from pyproj import Transformer\n",
    "\n",
    "# sanity check - coordinates to check\n",
    "# first coord is in Yangon, second is rural, the rest are randomly selected from the survey\n",
    "coords = [(96.199379, 16.871311), (96.103347, 18.613386), (97.233770, 24.260900), (95.419190, 17.681720), (96.163024, 16.774673), (95.404810, 16.286770)]\n",
    "\n",
    "# given path to a tif file and a list of lon-lat coordinates\n",
    "# this returns the values at those coordinates\n",
    "def check_vals_coord(path, coord_lst):\n",
    "    with rasterio.open(path) as rds:\n",
    "        # convert coordinate to raster projection\n",
    "        transformer = Transformer.from_crs(str(rds.crs), rds.crs, always_xy=True)\n",
    "        pts = [transformer.transform(tup[0], tup[1]) for tup in coord_lst]\n",
    "        # get value from grid\n",
    "        vals = [list(rds.sample([e]))[0][0] for e in pts]\n",
    "    return vals"
   ]
  },
  {
   "cell_type": "code",
   "execution_count": 10,
   "id": "1332fe6e",
   "metadata": {},
   "outputs": [],
   "source": [
    "dirpath = 'C:/Users/sun-joo.lee/Documents/0_git_repos/Myanmar_Survey_ML/data/geo/landscan/'\n",
    "infile = 'global/landscan-global-2022.tif'\n",
    "outfile = 'clipped/landscan_mm17.tif'"
   ]
  },
  {
   "cell_type": "code",
   "execution_count": 11,
   "id": "d930c61d",
   "metadata": {},
   "outputs": [],
   "source": [
    "# bounding box coordinates for myanmar\n",
    "mm_bbox = [91.5, 9.0, 101.5, 29.0]"
   ]
  },
  {
   "cell_type": "code",
   "execution_count": 12,
   "id": "3e17b922",
   "metadata": {},
   "outputs": [
    {
     "name": "stdout",
     "output_type": "stream",
     "text": [
      "<class 'affine.Affine'>\n"
     ]
    },
    {
     "data": {
      "text/plain": [
       "{'crs': 4326,\n",
       " 'transform': Affine(0.0083333333333333, 0.0, 91.5,\n",
       "        0.0, -0.0083333333333333, 29.0),\n",
       " 'width': 1200,\n",
       " 'height': 2400,\n",
       " 'resampling': <Resampling.bilinear: 1>}"
      ]
     },
     "execution_count": 12,
     "metadata": {},
     "output_type": "execute_result"
    }
   ],
   "source": [
    "# get vrt options from input file\n",
    "\n",
    "inpath = dirpath + infile\n",
    "with rasterio.open(inpath) as src:\n",
    "    win = from_bounds(*mm_bbox, src.transform)\n",
    "    win = Window(*[max(0, v) for v in win.flatten()])\n",
    "    print(type(src.window_transform(win)))\n",
    "    vrt_options = {\n",
    "        \"crs\": src.crs.to_epsg(),\n",
    "        \"transform\": src.window_transform(win),\n",
    "        \"width\": int(win.width),\n",
    "        \"height\": int(win.height),\n",
    "    }\n",
    "    \n",
    "vrt_options.update({'resampling':Resampling.bilinear})\n",
    "vrt_options"
   ]
  },
  {
   "cell_type": "code",
   "execution_count": 15,
   "id": "f9730152",
   "metadata": {},
   "outputs": [],
   "source": [
    "# https://rasterio.readthedocs.io/en/latest/topics/virtual-warping.html\n",
    "\n",
    "outpath = dirpath + outfile\n",
    "\n",
    "with rasterio.open(inpath) as src:\n",
    "    with WarpedVRT(src, **vrt_options) as vrt:\n",
    "        data = vrt.read()\n",
    "        for _, window in vrt.block_windows():\n",
    "            data = vrt.read(window=window)\n",
    "        rio_shutil.copy(vrt, outpath, driver='GTiff')"
   ]
  },
  {
   "cell_type": "code",
   "execution_count": 16,
   "id": "94a8b161",
   "metadata": {},
   "outputs": [
    {
     "data": {
      "text/plain": [
       "[8932, 0, 2599, 286, 12012, 3182]"
      ]
     },
     "execution_count": 16,
     "metadata": {},
     "output_type": "execute_result"
    }
   ],
   "source": [
    "check_vals_coord(inpath, coords)"
   ]
  },
  {
   "cell_type": "code",
   "execution_count": 17,
   "id": "2f259510",
   "metadata": {},
   "outputs": [
    {
     "data": {
      "text/plain": [
       "[8932, 0, 2599, 286, 12012, 3182]"
      ]
     },
     "execution_count": 17,
     "metadata": {},
     "output_type": "execute_result"
    }
   ],
   "source": [
    "check_vals_coord(outpath, coords)"
   ]
  },
  {
   "cell_type": "code",
   "execution_count": null,
   "id": "d783f4c3",
   "metadata": {},
   "outputs": [],
   "source": []
  }
 ],
 "metadata": {
  "kernelspec": {
   "display_name": "Python 3 (ipykernel)",
   "language": "python",
   "name": "python3"
  },
  "language_info": {
   "codemirror_mode": {
    "name": "ipython",
    "version": 3
   },
   "file_extension": ".py",
   "mimetype": "text/x-python",
   "name": "python",
   "nbconvert_exporter": "python",
   "pygments_lexer": "ipython3",
   "version": "3.9.12"
  }
 },
 "nbformat": 4,
 "nbformat_minor": 5
}
