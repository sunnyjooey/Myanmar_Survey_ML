{
 "cells": [
  {
   "cell_type": "code",
   "execution_count": 0,
   "metadata": {
    "application/vnd.databricks.v1+cell": {
     "cellMetadata": {
      "byteLimit": 2048000,
      "rowLimit": 10000
     },
     "inputWidgets": {},
     "nuid": "79a0acaf-7923-4737-9cf1-ac01a91565e1",
     "showTitle": false,
     "title": ""
    }
   },
   "outputs": [],
   "source": [
    "!pip install xarray\n",
    "!pip install geopy"
   ]
  },
  {
   "cell_type": "code",
   "execution_count": 0,
   "metadata": {
    "application/vnd.databricks.v1+cell": {
     "cellMetadata": {
      "byteLimit": 2048000,
      "rowLimit": 10000
     },
     "inputWidgets": {},
     "nuid": "ffb56c1a-1a69-4a8b-bad8-d97424c675cb",
     "showTitle": false,
     "title": ""
    }
   },
   "outputs": [],
   "source": [
    "import numpy as np\n",
    "import pandas as pd\n",
    "import datetime as dt\n",
    "import xarray as xr\n",
    "import pickle"
   ]
  },
  {
   "cell_type": "markdown",
   "metadata": {
    "application/vnd.databricks.v1+cell": {
     "cellMetadata": {
      "byteLimit": 2048000,
      "rowLimit": 10000
     },
     "inputWidgets": {},
     "nuid": "7112a15a-c54b-4859-8e89-7727c20c9c7c",
     "showTitle": false,
     "title": ""
    }
   },
   "source": [
    "### Create \"y\" from survey data"
   ]
  },
  {
   "cell_type": "code",
   "execution_count": 0,
   "metadata": {
    "application/vnd.databricks.v1+cell": {
     "cellMetadata": {
      "byteLimit": 2048000,
      "rowLimit": 10000
     },
     "inputWidgets": {},
     "nuid": "ba92f50c-2fa1-44e1-a1d2-cbade6da2a22",
     "showTitle": false,
     "title": ""
    }
   },
   "outputs": [],
   "source": [
    "# read in\n",
    "df = pd.read_stata('/dbfs/FileStore/Myanmar_Survey_ML/data/survey/Assets_household_level.dta')"
   ]
  },
  {
   "cell_type": "code",
   "execution_count": 0,
   "metadata": {
    "application/vnd.databricks.v1+cell": {
     "cellMetadata": {
      "byteLimit": 2048000,
      "rowLimit": 10000
     },
     "inputWidgets": {},
     "nuid": "1ef5d278-7df9-4b7e-b01e-42d4cd03c815",
     "showTitle": false,
     "title": ""
    }
   },
   "outputs": [],
   "source": [
    "# read in reference grid - landscan (population data)\n",
    "with open('/dbfs/FileStore/Myanmar_Survey_ML/data/geo/landscan/landscan2017_xarray.pickle', 'rb') as handle:\n",
    "    da = pickle.load(handle)"
   ]
  },
  {
   "cell_type": "code",
   "execution_count": 0,
   "metadata": {
    "application/vnd.databricks.v1+cell": {
     "cellMetadata": {
      "byteLimit": 2048000,
      "rowLimit": 10000
     },
     "inputWidgets": {},
     "nuid": "68ec1637-de33-4053-8aaf-5e3b80b12719",
     "showTitle": false,
     "title": ""
    }
   },
   "outputs": [],
   "source": [
    "# convert survey's lat/lon to closest lat/lon in landscan \n",
    "locations = np.array([[df.loc[i,'s0q22'], df.loc[i,'s0q23']] for i in df.index])\n",
    "locs = da.sel(lon=locations[:,1], lat=locations[:,0], method='nearest')"
   ]
  },
  {
   "cell_type": "code",
   "execution_count": 0,
   "metadata": {
    "application/vnd.databricks.v1+cell": {
     "cellMetadata": {
      "byteLimit": 2048000,
      "rowLimit": 10000
     },
     "inputWidgets": {},
     "nuid": "8983008d-0b01-4c4f-9e6c-587b35c38290",
     "showTitle": false,
     "title": ""
    }
   },
   "outputs": [],
   "source": [
    "# put it back in the survey data\n",
    "df = pd.concat([df, pd.Series(locs.lon.values, name='lon'), pd.Series(locs.lat.values, name='lat')], axis=1)"
   ]
  },
  {
   "cell_type": "markdown",
   "metadata": {
    "application/vnd.databricks.v1+cell": {
     "cellMetadata": {
      "byteLimit": 2048000,
      "rowLimit": 10000
     },
     "inputWidgets": {},
     "nuid": "ea25295a-f06f-449b-a327-f2c577c57a2d",
     "showTitle": false,
     "title": ""
    }
   },
   "source": [
    "###### changeable variables!"
   ]
  },
  {
   "cell_type": "code",
   "execution_count": 0,
   "metadata": {
    "application/vnd.databricks.v1+cell": {
     "cellMetadata": {
      "byteLimit": 2048000,
      "rowLimit": 10000
     },
     "inputWidgets": {},
     "nuid": "e5de290a-9992-43a8-ab82-5f4f534d2b69",
     "showTitle": false,
     "title": ""
    }
   },
   "outputs": [],
   "source": [
    "poverty_line = 1302.951\n",
    "fgt_a = 0.5  # change as needed\n",
    "################ CHECK CORRECT WEIGHT AND EXPENDITURE COLUMNS #######################\n",
    "weight = 'hhweight'\n",
    "expenditure = 'r_totex_pad_v3'"
   ]
  },
  {
   "cell_type": "code",
   "execution_count": 0,
   "metadata": {
    "application/vnd.databricks.v1+cell": {
     "cellMetadata": {
      "byteLimit": 2048000,
      "rowLimit": 10000
     },
     "inputWidgets": {},
     "nuid": "ef5fa731-1e12-41ad-95db-5450bd4e2cb9",
     "showTitle": false,
     "title": ""
    }
   },
   "outputs": [],
   "source": [
    "# those who are over the poverty line have negative numbers, all negatives are made 0 thru clip\n",
    "# those who are under the poverty line have a positive number (float)\n",
    "df = pd.concat([df, pd.Series((poverty_line - df[expenditure]).clip(0) / poverty_line, name='y')], axis=1)\n",
    "\n",
    "# change month to datetime and cleaning\n",
    "df.loc[:,'s0q20_mm'] = df['s0q20_mm'].apply(lambda x: dt.date(2017, int(x), 1))\n",
    "d = df[['s0q20_mm', 'lat', 'lon', weight, 'y']]\n",
    "d = d.rename(columns={'s0q20_mm':'time', weight:'weight'})\n",
    "\n",
    "# convert 'poor' to 1 or fgta\n",
    "d['y0'] = np.where(d[\"y\"], 1.0, 0.0)\n",
    "d['ya'] = np.where(d[\"y\"], d[\"y\"] ** fgt_a, 0.0)\n",
    "\n",
    "# get weighted average by lat/lon location and month\n",
    "ds = d.groupby(['time', 'lat', 'lon']).apply(\n",
    "    lambda x: pd.Series(\n",
    "                [\n",
    "                    np.average(x['y0'], weights=x[\"weight\"]),\n",
    "                    np.average(x['ya'], weights=x[\"weight\"]),\n",
    "                ],\n",
    "                index=(\"y0\", \"ya\")\n",
    "            )\n",
    "        ).reset_index()"
   ]
  },
  {
   "cell_type": "code",
   "execution_count": 0,
   "metadata": {
    "application/vnd.databricks.v1+cell": {
     "cellMetadata": {
      "byteLimit": 2048000,
      "rowLimit": 10000
     },
     "inputWidgets": {},
     "nuid": "b3f02e32-7d36-4b67-8f03-7c5e3e388f8f",
     "showTitle": false,
     "title": ""
    }
   },
   "outputs": [],
   "source": [
    "# check\n",
    "ds"
   ]
  },
  {
   "cell_type": "code",
   "execution_count": 0,
   "metadata": {
    "application/vnd.databricks.v1+cell": {
     "cellMetadata": {
      "byteLimit": 2048000,
      "rowLimit": 10000
     },
     "inputWidgets": {},
     "nuid": "4ed954b6-fde0-4f8e-a5d5-898dbae4ca5c",
     "showTitle": false,
     "title": ""
    }
   },
   "outputs": [],
   "source": [
    "# save as pandas pickle\n",
    "with open('/dbfs/FileStore/Myanmar_Survey_ML/data/survey/y_panda.pickle', 'wb') as handle:\n",
    "    pickle.dump(da, handle, protocol=pickle.HIGHEST_PROTOCOL)"
   ]
  },
  {
   "cell_type": "markdown",
   "metadata": {
    "application/vnd.databricks.v1+cell": {
     "cellMetadata": {
      "byteLimit": 2048000,
      "rowLimit": 10000
     },
     "inputWidgets": {},
     "nuid": "3e518552-5438-4b52-979b-ca3c4d3fe4f0",
     "showTitle": false,
     "title": ""
    }
   },
   "source": [
    "### ACLED feature engineering"
   ]
  },
  {
   "cell_type": "code",
   "execution_count": 0,
   "metadata": {
    "application/vnd.databricks.v1+cell": {
     "cellMetadata": {
      "byteLimit": 2048000,
      "rowLimit": 10000
     },
     "inputWidgets": {},
     "nuid": "aac45410-6329-4ff5-8813-31b5a981a46c",
     "showTitle": false,
     "title": ""
    }
   },
   "outputs": [],
   "source": [
    "# read in reference grid - landscan (population data)\n",
    "with open('/dbfs/FileStore/Myanmar_Survey_ML/data/geo/landscan/landscan2017_xarray.pickle', 'rb') as handle:\n",
    "    da = pickle.load(handle)"
   ]
  },
  {
   "cell_type": "code",
   "execution_count": 0,
   "metadata": {
    "application/vnd.databricks.v1+cell": {
     "cellMetadata": {
      "byteLimit": 2048000,
      "rowLimit": 10000
     },
     "inputWidgets": {},
     "nuid": "9aaaa404-44f7-497e-b7f7-cc184757c3f1",
     "showTitle": false,
     "title": ""
    }
   },
   "outputs": [],
   "source": [
    "# read in acled data\n",
    "from pyspark.sql import SparkSession\n",
    "from pyspark.dbutils import DBUtils\n",
    "\n",
    "spark = SparkSession.builder.getOrCreate()\n",
    "dbutils = DBUtils(spark)\n",
    "\n",
    "database_host = dbutils.secrets.get(scope='warehouse_scope', key='database_host')\n",
    "database_port = dbutils.secrets.get(scope='warehouse_scope', key='database_port')\n",
    "user = dbutils.secrets.get(scope='warehouse_scope', key='user')\n",
    "password = dbutils.secrets.get(scope='warehouse_scope', key='password')\n",
    "\n",
    "database_name = \"UNDP_DW_CRD\"\n",
    "table = \"dbo.CRD_ACLED\"\n",
    "url = f\"jdbc:sqlserver://{database_host}:{database_port};databaseName={database_name};\"\n",
    "\n",
    "df_all = (spark.read\n",
    "      .format(\"com.microsoft.sqlserver.jdbc.spark\")\n",
    "      .option(\"url\", url)\n",
    "      .option(\"dbtable\", table)\n",
    "      .option(\"user\", user)\n",
    "      .option(\"password\", password)\n",
    "      .load()\n",
    "    ) "
   ]
  },
  {
   "cell_type": "code",
   "execution_count": 0,
   "metadata": {
    "application/vnd.databricks.v1+cell": {
     "cellMetadata": {
      "byteLimit": 2048000,
      "rowLimit": 10000
     },
     "inputWidgets": {},
     "nuid": "a9906e54-e53c-4f53-83a3-4eaf0b78e1dc",
     "showTitle": false,
     "title": ""
    }
   },
   "outputs": [],
   "source": [
    "# filter to year and country\n",
    "df = df_all.filter((df_all.ACLED_Year==2017) & (df_all.CountryFK==187))\n",
    "display(df.limit(10))"
   ]
  },
  {
   "cell_type": "code",
   "execution_count": 0,
   "metadata": {
    "application/vnd.databricks.v1+cell": {
     "cellMetadata": {
      "byteLimit": 2048000,
      "rowLimit": 10000
     },
     "inputWidgets": {},
     "nuid": "9658bc35-902f-4135-ad85-41f80d80d384",
     "showTitle": false,
     "title": ""
    }
   },
   "outputs": [],
   "source": [
    "# convert\n",
    "acled = df.toPandas()\n",
    "acled = acled[['TimeFK_Event_Date', 'ACLED_Event_Type', 'ACLED_Latitude', 'ACLED_Longitude' , 'ACLED_Geo_Precision', 'ACLED_Fatalities']]\n",
    "# datetime to the first of the month\n",
    "acled['month'] = acled['TimeFK_Event_Date'].apply(lambda x: str(x))\n",
    "acled['month'] = acled['month'].apply(lambda x: dt.datetime(int(x[:4]), int(x[4:6]), 1))"
   ]
  },
  {
   "cell_type": "code",
   "execution_count": 0,
   "metadata": {
    "application/vnd.databricks.v1+cell": {
     "cellMetadata": {
      "byteLimit": 2048000,
      "rowLimit": 10000
     },
     "inputWidgets": {},
     "nuid": "87000b71-e300-41c1-800d-65ad0752484e",
     "showTitle": false,
     "title": ""
    }
   },
   "outputs": [],
   "source": [
    "# convert lscn to pandas for easy looping\n",
    "lscn = da.to_dataframe().reset_index()\n",
    "lscn = lscn[~np.isnan(lscn.landscan)]\n",
    "lscn.head()"
   ]
  },
  {
   "cell_type": "code",
   "execution_count": 0,
   "metadata": {
    "application/vnd.databricks.v1+cell": {
     "cellMetadata": {
      "byteLimit": 2048000,
      "rowLimit": 10000
     },
     "inputWidgets": {},
     "nuid": "3806bdd2-c2d5-4166-a5ce-487051899f94",
     "showTitle": false,
     "title": ""
    }
   },
   "outputs": [],
   "source": [
    "from geopy.distance import geodesic\n",
    "from geopy.distance import distance\n",
    "\n",
    "col = []\n",
    "for i, arow in acled.iterrows():\n",
    "    # max distance (of influence) depends on the precision of the location\n",
    "    if arow['ACLED_Geo_Precision'] == 1:\n",
    "        mx = 5\n",
    "    elif arow['ACLED_Geo_Precision'] == 2:\n",
    "        mx = 20\n",
    "    else:\n",
    "        mx = 50\n",
    "\n",
    "    coord1 = (arow['ACLED_Latitude'], arow['ACLED_Longitude'])\n",
    "    dst = distance(kilometers=mx*1.05)\n",
    "    n = dst.destination(point=coord1, bearing=0)[0] #get latitude for north-bound\n",
    "    e = dst.destination(point=coord1, bearing=90)[1] #get longitude for east-bound\n",
    "    s = dst.destination(point=coord1, bearing=180)[0] #get latitude for south-bound\n",
    "    w = dst.destination(point=coord1, bearing=-90)[1] #get latitude for west-bound\n",
    "\n",
    "    # filter lat-lon to reduce compute time\n",
    "    lscn_filter = lscn.loc[(lscn['lat'] < n) & (lscn['lat'] > s) & (lscn['lon'] < e) & (lscn['lon'] > w), :]\n",
    "    \n",
    "    near = []\n",
    "    # get exact distance and save if within max\n",
    "    for j, wor in lscn_filter.iterrows():\n",
    "        coord2 = (wor['lat'], wor['lon'])\n",
    "        dist = geodesic(coord1, coord2).km\n",
    "        if dist <= mx:\n",
    "            near.append((wor['lat'], wor['lon']))    \n",
    "    col.append(near)\n",
    "\n",
    "# save as column\n",
    "acled['lscn'] = col"
   ]
  },
  {
   "cell_type": "code",
   "execution_count": 0,
   "metadata": {
    "application/vnd.databricks.v1+cell": {
     "cellMetadata": {
      "byteLimit": 2048000,
      "rowLimit": 10000
     },
     "inputWidgets": {},
     "nuid": "2efa8730-bedf-4daf-9a79-f8fb12bf49b5",
     "showTitle": false,
     "title": ""
    }
   },
   "outputs": [],
   "source": [
    "# explode the list into separate rows\n",
    "a = acled.explode('lscn')"
   ]
  },
  {
   "cell_type": "code",
   "execution_count": 0,
   "metadata": {
    "application/vnd.databricks.v1+cell": {
     "cellMetadata": {
      "byteLimit": 2048000,
      "rowLimit": 10000
     },
     "inputWidgets": {},
     "nuid": "7c4c32f4-a108-419b-bb8e-e44a2f63fc79",
     "showTitle": false,
     "title": ""
    }
   },
   "outputs": [],
   "source": [
    "# number of events, normalized by geo precision\n",
    "def event_count(sub):\n",
    "    far = sub[sub['ACLED_Geo_Precision']==3].shape[0] / 3\n",
    "    med = sub[sub['ACLED_Geo_Precision']==2].shape[0] / 2\n",
    "    near = sub[sub['ACLED_Geo_Precision']==1].shape[0]\n",
    "    return far + med + near\n",
    "\n",
    "# number of fatalities, normalized by geo precision\n",
    "def fatal_count(sub):\n",
    "    far = sub.loc[sub['ACLED_Geo_Precision']==3, 'ACLED_Fatalities'].sum() / 3\n",
    "    med = sub.loc[sub['ACLED_Geo_Precision']==2, 'ACLED_Fatalities'].sum() / 2\n",
    "    near = sub.loc[sub['ACLED_Geo_Precision']==1, 'ACLED_Fatalities'].sum()\n",
    "    return far + med + near"
   ]
  },
  {
   "cell_type": "code",
   "execution_count": 0,
   "metadata": {
    "application/vnd.databricks.v1+cell": {
     "cellMetadata": {
      "byteLimit": 2048000,
      "rowLimit": 10000
     },
     "inputWidgets": {},
     "nuid": "294ed9b9-3f79-4891-93cf-fc9ecc8ce162",
     "showTitle": false,
     "title": ""
    }
   },
   "outputs": [],
   "source": [
    "# groupby lat/lon coordinates and month - get 'normalized' event counts\n",
    "ev = a.groupby(['lscn','month']).apply(lambda sub: event_count(sub)).reset_index()\n",
    "ev = ev.rename(columns={0:'event_count'})"
   ]
  },
  {
   "cell_type": "code",
   "execution_count": 0,
   "metadata": {
    "application/vnd.databricks.v1+cell": {
     "cellMetadata": {
      "byteLimit": 2048000,
      "rowLimit": 10000
     },
     "inputWidgets": {},
     "nuid": "a1c91c45-9367-4d96-9934-1abf24438814",
     "showTitle": false,
     "title": ""
    }
   },
   "outputs": [],
   "source": [
    "# groupby lat/lon coordinates and month - get 'normalized' fatality counts\n",
    "ft = a.groupby(['lscn','month']).apply(lambda sub: fatal_count(sub)).reset_index()\n",
    "ft = ev.rename(columns={0:'fatal_count'})"
   ]
  },
  {
   "cell_type": "code",
   "execution_count": 0,
   "metadata": {
    "application/vnd.databricks.v1+cell": {
     "cellMetadata": {
      "byteLimit": 2048000,
      "rowLimit": 10000
     },
     "inputWidgets": {},
     "nuid": "173ecaae-e5ca-42fb-9e63-86e94c655ed5",
     "showTitle": false,
     "title": ""
    }
   },
   "outputs": [],
   "source": [
    "# merge together\n",
    "mrg = pd.merge(ev, ft)\n",
    "mrg['lat'] = mrg['lscn'].apply(lambda x: x[0])\n",
    "mrg['lon'] = mrg['lscn'].apply(lambda x: x[1])\n",
    "mrg = mrg[['lat','lon','month','event_count','fatal_count']]\n",
    "mrg"
   ]
  },
  {
   "cell_type": "code",
   "execution_count": 0,
   "metadata": {
    "application/vnd.databricks.v1+cell": {
     "cellMetadata": {
      "byteLimit": 2048000,
      "rowLimit": 10000
     },
     "inputWidgets": {},
     "nuid": "a36ccc01-1f80-4a54-9f81-ef043664b7a7",
     "showTitle": false,
     "title": ""
    }
   },
   "outputs": [],
   "source": [
    "# save as pandas pickle\n",
    "with open('/dbfs/FileStore/Myanmar_Survey_ML/data/survey/acled_panda.pickle', 'wb') as handle:\n",
    "    pickle.dump(mrg, handle, protocol=pickle.HIGHEST_PROTOCOL)"
   ]
  }
 ],
 "metadata": {
  "application/vnd.databricks.v1+notebook": {
   "dashboards": [],
   "language": "python",
   "notebookMetadata": {
    "pythonIndentUnit": 4
   },
   "notebookName": "survey",
   "widgets": {}
  },
  "kernelspec": {
   "display_name": "Python 3 (ipykernel)",
   "language": "python",
   "name": "python3"
  },
  "language_info": {
   "codemirror_mode": {
    "name": "ipython",
    "version": 3
   },
   "file_extension": ".py",
   "mimetype": "text/x-python",
   "name": "python",
   "nbconvert_exporter": "python",
   "pygments_lexer": "ipython3",
   "version": "3.9.12"
  }
 },
 "nbformat": 4,
 "nbformat_minor": 0
}
