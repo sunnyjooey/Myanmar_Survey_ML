{
 "cells": [
  {
   "cell_type": "code",
   "execution_count": null,
   "id": "a6d8de9c",
   "metadata": {},
   "outputs": [],
   "source": [
    "import pandas as pd"
   ]
  },
  {
   "cell_type": "code",
   "execution_count": null,
   "id": "7af65ee7",
   "metadata": {},
   "outputs": [],
   "source": [
    "df = pd.read_stata('/dbfs/FileStore/df/myanmar_survey_ml/survey/Assets_household_level.dta')"
   ]
  },
  {
   "cell_type": "code",
   "execution_count": null,
   "id": "f098b595",
   "metadata": {},
   "outputs": [],
   "source": [
    "df.groupby('s0q20_mm').size()"
   ]
  },
  {
   "cell_type": "code",
   "execution_count": null,
   "id": "67370d29",
   "metadata": {},
   "outputs": [],
   "source": []
  }
 ],
 "metadata": {
  "kernelspec": {
   "display_name": "Python 3 (ipykernel)",
   "language": "python",
   "name": "python3"
  },
  "language_info": {
   "codemirror_mode": {
    "name": "ipython",
    "version": 3
   },
   "file_extension": ".py",
   "mimetype": "text/x-python",
   "name": "python",
   "nbconvert_exporter": "python",
   "pygments_lexer": "ipython3",
   "version": "3.9.12"
  }
 },
 "nbformat": 4,
 "nbformat_minor": 5
}
