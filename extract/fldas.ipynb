{
 "cells": [
  {
   "cell_type": "code",
   "execution_count": null,
   "id": "e3772ed1",
   "metadata": {},
   "outputs": [],
   "source": [
    "!pip install pydap"
   ]
  },
  {
   "cell_type": "code",
   "execution_count": null,
   "id": "2ef4749f",
   "metadata": {},
   "outputs": [],
   "source": [
    "'https://data.gesdisc.earthdata.nasa.gov/data/FLDAS/FLDAS_NOAH01_C_GL_M.001/2017/FLDAS_NOAH01_C_GL_M.A201701.001.nc',\n",
    "'https://data.gesdisc.earthdata.nasa.gov/data/FLDAS/FLDAS_NOAH01_C_GL_M.001/2017/FLDAS_NOAH01_C_GL_M.A201702.001.nc',\n",
    "'https://data.gesdisc.earthdata.nasa.gov/data/FLDAS/FLDAS_NOAH01_C_GL_M.001/2017/FLDAS_NOAH01_C_GL_M.A201703.001.nc',\n",
    "'https://data.gesdisc.earthdata.nasa.gov/data/FLDAS/FLDAS_NOAH01_C_GL_M.001/2017/FLDAS_NOAH01_C_GL_M.A201704.001.nc',\n",
    "'https://data.gesdisc.earthdata.nasa.gov/data/FLDAS/FLDAS_NOAH01_C_GL_M.001/2017/FLDAS_NOAH01_C_GL_M.A201705.001.nc',\n",
    "'https://data.gesdisc.earthdata.nasa.gov/data/FLDAS/FLDAS_NOAH01_C_GL_M.001/2017/FLDAS_NOAH01_C_GL_M.A201706.001.nc',\n",
    "'https://data.gesdisc.earthdata.nasa.gov/data/FLDAS/FLDAS_NOAH01_C_GL_M.001/2017/FLDAS_NOAH01_C_GL_M.A201707.001.nc',\n",
    "'https://data.gesdisc.earthdata.nasa.gov/data/FLDAS/FLDAS_NOAH01_C_GL_M.001/2017/FLDAS_NOAH01_C_GL_M.A201708.001.nc',\n",
    "'https://data.gesdisc.earthdata.nasa.gov/data/FLDAS/FLDAS_NOAH01_C_GL_M.001/2017/FLDAS_NOAH01_C_GL_M.A201709.001.nc',\n",
    "'https://data.gesdisc.earthdata.nasa.gov/data/FLDAS/FLDAS_NOAH01_C_GL_M.001/2017/FLDAS_NOAH01_C_GL_M.A201710.001.nc',\n",
    "'https://data.gesdisc.earthdata.nasa.gov/data/FLDAS/FLDAS_NOAH01_C_GL_M.001/2017/FLDAS_NOAH01_C_GL_M.A201711.001.nc',\n",
    "'https://data.gesdisc.earthdata.nasa.gov/data/FLDAS/FLDAS_NOAH01_C_GL_M.001/2017/FLDAS_NOAH01_C_GL_M.A201712.001.nc'"
   ]
  },
  {
   "cell_type": "code",
   "execution_count": 7,
   "id": "c08e2fb1",
   "metadata": {},
   "outputs": [
    {
     "name": "stdout",
     "output_type": "stream",
     "text": [
      "contents of URL written to test.nc\n"
     ]
    }
   ],
   "source": [
    "import requests\n",
    "\n",
    "# # https://hydro1.gesdisc.eosdis.nasa.gov/data/FLDAS/FLDAS_NOAH01_C_GL_M.001/doc/README_FLDAS.pdf\n",
    "# https://disc.gsfc.nasa.gov/information/howto?title=How%20to%20Generate%20Earthdata%20Prerequisite%20Files\n",
    "# https://disc.gsfc.nasa.gov/information/howto?keywords=python&title=How%20to%20Access%20GES%20DISC%20Data%20Using%20Python\n",
    "\n",
    "\n",
    "URL = 'https://data.gesdisc.earthdata.nasa.gov/data/FLDAS/FLDAS_NOAH01_C_GL_M.001/2017/FLDAS_NOAH01_C_GL_M.A201701.001.nc'\n",
    "\n",
    "# Set the FILENAME string to the data file name, the LABEL keyword value, or any customized name. \n",
    "FILENAME = 'test.nc'\n",
    "\n",
    "import requests\n",
    "result = requests.get(URL)\n",
    "\n",
    "result.raise_for_status()\n",
    "f = open(FILENAME,'wb')\n",
    "f.write(result.content)\n",
    "f.close()\n",
    "print('contents of URL written to '+FILENAME)\n",
    "\n",
    "    "
   ]
  },
  {
   "cell_type": "code",
   "execution_count": 12,
   "id": "9d1879cc",
   "metadata": {},
   "outputs": [],
   "source": [
    "import rasterio"
   ]
  },
  {
   "cell_type": "code",
   "execution_count": 13,
   "id": "d354c600",
   "metadata": {},
   "outputs": [
    {
     "name": "stderr",
     "output_type": "stream",
     "text": [
      "C:\\Users\\sun-joo.lee\\Anaconda3\\lib\\site-packages\\rasterio\\__init__.py:333: NotGeoreferencedWarning: Dataset has no geotransform, gcps, or rpcs. The identity matrix will be returned.\n",
      "  dataset = DatasetReader(path, driver=driver, sharing=sharing, **kwargs)\n"
     ]
    }
   ],
   "source": [
    "with rasterio.open('test.nc') as src:\n",
    "    profile = src.profile"
   ]
  },
  {
   "cell_type": "code",
   "execution_count": 14,
   "id": "b004e4f6",
   "metadata": {},
   "outputs": [
    {
     "data": {
      "text/plain": [
       "{'driver': 'netCDF', 'dtype': 'float_', 'nodata': None, 'width': 512, 'height': 512, 'count': 0, 'crs': None, 'transform': Affine(1.0, 0.0, 0.0,\n",
       "       0.0, 1.0, 0.0), 'tiled': False}"
      ]
     },
     "execution_count": 14,
     "metadata": {},
     "output_type": "execute_result"
    }
   ],
   "source": [
    "profile"
   ]
  },
  {
   "cell_type": "code",
   "execution_count": 3,
   "id": "c80e4032",
   "metadata": {},
   "outputs": [
    {
     "data": {
      "text/plain": [
       "'1.21.5'"
      ]
     },
     "execution_count": 3,
     "metadata": {},
     "output_type": "execute_result"
    }
   ],
   "source": [
    "# import numpy\n",
    "# numpy.version.version"
   ]
  },
  {
   "cell_type": "code",
   "execution_count": 1,
   "id": "dbfbc209",
   "metadata": {},
   "outputs": [
    {
     "ename": "ValueError",
     "evalue": "numpy.ufunc size changed, may indicate binary incompatibility. Expected 232 from C header, got 216 from PyObject",
     "output_type": "error",
     "traceback": [
      "\u001b[1;31m---------------------------------------------------------------------------\u001b[0m",
      "\u001b[1;31mValueError\u001b[0m                                Traceback (most recent call last)",
      "Input \u001b[1;32mIn [1]\u001b[0m, in \u001b[0;36m<cell line: 1>\u001b[1;34m()\u001b[0m\n\u001b[1;32m----> 1\u001b[0m \u001b[38;5;28;01mimport\u001b[39;00m \u001b[38;5;21;01mxarray\u001b[39;00m \u001b[38;5;28;01mas\u001b[39;00m \u001b[38;5;21;01mxr\u001b[39;00m\n\u001b[0;32m      3\u001b[0m nc \u001b[38;5;241m=\u001b[39m nc4\u001b[38;5;241m.\u001b[39mDataset(\u001b[38;5;124m'\u001b[39m\u001b[38;5;124mtest.nc\u001b[39m\u001b[38;5;124m'\u001b[39m, mode\u001b[38;5;241m=\u001b[39m\u001b[38;5;124m'\u001b[39m\u001b[38;5;124mr\u001b[39m\u001b[38;5;124m'\u001b[39m)  \u001b[38;5;66;03m# Or from siphon.ncss\u001b[39;00m\n\u001b[0;32m      4\u001b[0m dataset \u001b[38;5;241m=\u001b[39m xr\u001b[38;5;241m.\u001b[39mopen_dataset(xr\u001b[38;5;241m.\u001b[39mbackends\u001b[38;5;241m.\u001b[39mNetCDF4DataStore(nc))\n",
      "File \u001b[1;32m~\\Anaconda3\\lib\\site-packages\\xarray\\__init__.py:1\u001b[0m, in \u001b[0;36m<module>\u001b[1;34m\u001b[0m\n\u001b[1;32m----> 1\u001b[0m \u001b[38;5;28;01mfrom\u001b[39;00m \u001b[38;5;21;01m.\u001b[39;00m \u001b[38;5;28;01mimport\u001b[39;00m testing, tutorial, ufuncs\n\u001b[0;32m      2\u001b[0m \u001b[38;5;28;01mfrom\u001b[39;00m \u001b[38;5;21;01m.\u001b[39;00m\u001b[38;5;21;01mbackends\u001b[39;00m\u001b[38;5;21;01m.\u001b[39;00m\u001b[38;5;21;01mapi\u001b[39;00m \u001b[38;5;28;01mimport\u001b[39;00m (\n\u001b[0;32m      3\u001b[0m     load_dataarray,\n\u001b[0;32m      4\u001b[0m     load_dataset,\n\u001b[1;32m   (...)\u001b[0m\n\u001b[0;32m      8\u001b[0m     save_mfdataset,\n\u001b[0;32m      9\u001b[0m )\n\u001b[0;32m     10\u001b[0m \u001b[38;5;28;01mfrom\u001b[39;00m \u001b[38;5;21;01m.\u001b[39;00m\u001b[38;5;21;01mbackends\u001b[39;00m\u001b[38;5;21;01m.\u001b[39;00m\u001b[38;5;21;01mrasterio_\u001b[39;00m \u001b[38;5;28;01mimport\u001b[39;00m open_rasterio\n",
      "File \u001b[1;32m~\\Anaconda3\\lib\\site-packages\\xarray\\tutorial.py:13\u001b[0m, in \u001b[0;36m<module>\u001b[1;34m\u001b[0m\n\u001b[0;32m      9\u001b[0m \u001b[38;5;28;01mimport\u001b[39;00m \u001b[38;5;21;01mpathlib\u001b[39;00m\n\u001b[0;32m     11\u001b[0m \u001b[38;5;28;01mimport\u001b[39;00m \u001b[38;5;21;01mnumpy\u001b[39;00m \u001b[38;5;28;01mas\u001b[39;00m \u001b[38;5;21;01mnp\u001b[39;00m\n\u001b[1;32m---> 13\u001b[0m \u001b[38;5;28;01mfrom\u001b[39;00m \u001b[38;5;21;01m.\u001b[39;00m\u001b[38;5;21;01mbackends\u001b[39;00m\u001b[38;5;21;01m.\u001b[39;00m\u001b[38;5;21;01mapi\u001b[39;00m \u001b[38;5;28;01mimport\u001b[39;00m open_dataset \u001b[38;5;28;01mas\u001b[39;00m _open_dataset\n\u001b[0;32m     14\u001b[0m \u001b[38;5;28;01mfrom\u001b[39;00m \u001b[38;5;21;01m.\u001b[39;00m\u001b[38;5;21;01mbackends\u001b[39;00m\u001b[38;5;21;01m.\u001b[39;00m\u001b[38;5;21;01mrasterio_\u001b[39;00m \u001b[38;5;28;01mimport\u001b[39;00m open_rasterio \u001b[38;5;28;01mas\u001b[39;00m _open_rasterio\n\u001b[0;32m     15\u001b[0m \u001b[38;5;28;01mfrom\u001b[39;00m \u001b[38;5;21;01m.\u001b[39;00m\u001b[38;5;21;01mcore\u001b[39;00m\u001b[38;5;21;01m.\u001b[39;00m\u001b[38;5;21;01mdataarray\u001b[39;00m \u001b[38;5;28;01mimport\u001b[39;00m DataArray\n",
      "File \u001b[1;32m~\\Anaconda3\\lib\\site-packages\\xarray\\backends\\__init__.py:9\u001b[0m, in \u001b[0;36m<module>\u001b[1;34m\u001b[0m\n\u001b[0;32m      7\u001b[0m \u001b[38;5;28;01mfrom\u001b[39;00m \u001b[38;5;21;01m.\u001b[39;00m\u001b[38;5;21;01mcommon\u001b[39;00m \u001b[38;5;28;01mimport\u001b[39;00m AbstractDataStore, BackendArray, BackendEntrypoint\n\u001b[0;32m      8\u001b[0m \u001b[38;5;28;01mfrom\u001b[39;00m \u001b[38;5;21;01m.\u001b[39;00m\u001b[38;5;21;01mfile_manager\u001b[39;00m \u001b[38;5;28;01mimport\u001b[39;00m CachingFileManager, DummyFileManager, FileManager\n\u001b[1;32m----> 9\u001b[0m \u001b[38;5;28;01mfrom\u001b[39;00m \u001b[38;5;21;01m.\u001b[39;00m\u001b[38;5;21;01mh5netcdf_\u001b[39;00m \u001b[38;5;28;01mimport\u001b[39;00m H5NetCDFStore\n\u001b[0;32m     10\u001b[0m \u001b[38;5;28;01mfrom\u001b[39;00m \u001b[38;5;21;01m.\u001b[39;00m\u001b[38;5;21;01mmemory\u001b[39;00m \u001b[38;5;28;01mimport\u001b[39;00m InMemoryDataStore\n\u001b[0;32m     11\u001b[0m \u001b[38;5;28;01mfrom\u001b[39;00m \u001b[38;5;21;01m.\u001b[39;00m\u001b[38;5;21;01mnetCDF4_\u001b[39;00m \u001b[38;5;28;01mimport\u001b[39;00m NetCDF4DataStore\n",
      "File \u001b[1;32m~\\Anaconda3\\lib\\site-packages\\xarray\\backends\\h5netcdf_.py:25\u001b[0m, in \u001b[0;36m<module>\u001b[1;34m\u001b[0m\n\u001b[0;32m     23\u001b[0m \u001b[38;5;28;01mfrom\u001b[39;00m \u001b[38;5;21;01m.\u001b[39;00m\u001b[38;5;21;01mfile_manager\u001b[39;00m \u001b[38;5;28;01mimport\u001b[39;00m CachingFileManager, DummyFileManager\n\u001b[0;32m     24\u001b[0m \u001b[38;5;28;01mfrom\u001b[39;00m \u001b[38;5;21;01m.\u001b[39;00m\u001b[38;5;21;01mlocks\u001b[39;00m \u001b[38;5;28;01mimport\u001b[39;00m HDF5_LOCK, combine_locks, ensure_lock, get_write_lock\n\u001b[1;32m---> 25\u001b[0m \u001b[38;5;28;01mfrom\u001b[39;00m \u001b[38;5;21;01m.\u001b[39;00m\u001b[38;5;21;01mnetCDF4_\u001b[39;00m \u001b[38;5;28;01mimport\u001b[39;00m (\n\u001b[0;32m     26\u001b[0m     BaseNetCDF4Array,\n\u001b[0;32m     27\u001b[0m     _encode_nc4_variable,\n\u001b[0;32m     28\u001b[0m     _extract_nc4_variable_encoding,\n\u001b[0;32m     29\u001b[0m     _get_datatype,\n\u001b[0;32m     30\u001b[0m     _nc4_require_group,\n\u001b[0;32m     31\u001b[0m )\n\u001b[0;32m     32\u001b[0m \u001b[38;5;28;01mfrom\u001b[39;00m \u001b[38;5;21;01m.\u001b[39;00m\u001b[38;5;21;01mstore\u001b[39;00m \u001b[38;5;28;01mimport\u001b[39;00m StoreBackendEntrypoint\n\u001b[0;32m     34\u001b[0m \u001b[38;5;28;01mtry\u001b[39;00m:\n",
      "File \u001b[1;32m~\\Anaconda3\\lib\\site-packages\\xarray\\backends\\netCDF4_.py:33\u001b[0m, in \u001b[0;36m<module>\u001b[1;34m\u001b[0m\n\u001b[0;32m     30\u001b[0m \u001b[38;5;28;01mfrom\u001b[39;00m \u001b[38;5;21;01m.\u001b[39;00m\u001b[38;5;21;01mstore\u001b[39;00m \u001b[38;5;28;01mimport\u001b[39;00m StoreBackendEntrypoint\n\u001b[0;32m     32\u001b[0m \u001b[38;5;28;01mtry\u001b[39;00m:\n\u001b[1;32m---> 33\u001b[0m     \u001b[38;5;28;01mimport\u001b[39;00m \u001b[38;5;21;01mnetCDF4\u001b[39;00m\n\u001b[0;32m     35\u001b[0m     has_netcdf4 \u001b[38;5;241m=\u001b[39m \u001b[38;5;28;01mTrue\u001b[39;00m\n\u001b[0;32m     36\u001b[0m \u001b[38;5;28;01mexcept\u001b[39;00m \u001b[38;5;167;01mModuleNotFoundError\u001b[39;00m:\n",
      "File \u001b[1;32m~\\Anaconda3\\lib\\site-packages\\netCDF4\\__init__.py:31\u001b[0m, in \u001b[0;36m<module>\u001b[1;34m\u001b[0m\n\u001b[0;32m     28\u001b[0m \u001b[38;5;28;01mdel\u001b[39;00m _delvewheel_patch_1_5_1\n\u001b[0;32m     29\u001b[0m \u001b[38;5;66;03m# end delvewheel patch\u001b[39;00m\n\u001b[1;32m---> 31\u001b[0m \u001b[38;5;28;01mfrom\u001b[39;00m \u001b[38;5;21;01m.\u001b[39;00m\u001b[38;5;21;01m_netCDF4\u001b[39;00m \u001b[38;5;28;01mimport\u001b[39;00m \u001b[38;5;241m*\u001b[39m\n\u001b[0;32m     32\u001b[0m \u001b[38;5;66;03m# Need explicit imports for names beginning with underscores\u001b[39;00m\n\u001b[0;32m     33\u001b[0m \u001b[38;5;28;01mfrom\u001b[39;00m \u001b[38;5;21;01m.\u001b[39;00m\u001b[38;5;21;01m_netCDF4\u001b[39;00m \u001b[38;5;28;01mimport\u001b[39;00m \u001b[38;5;18m__doc__\u001b[39m\n",
      "File \u001b[1;32msrc\\\\netCDF4\\\\_netCDF4.pyx:1\u001b[0m, in \u001b[0;36minit netCDF4._netCDF4\u001b[1;34m()\u001b[0m\n",
      "\u001b[1;31mValueError\u001b[0m: numpy.ufunc size changed, may indicate binary incompatibility. Expected 232 from C header, got 216 from PyObject"
     ]
    }
   ],
   "source": [
    "import xarray as xr\n",
    "\n",
    "nc = nc4.Dataset('test.nc', mode='r')  # Or from siphon.ncss\n",
    "dataset = xr.open_dataset(xr.backends.NetCDF4DataStore(nc))"
   ]
  },
  {
   "cell_type": "code",
   "execution_count": null,
   "id": "ab9c6ae5",
   "metadata": {},
   "outputs": [],
   "source": []
  }
 ],
 "metadata": {
  "kernelspec": {
   "display_name": "Python 3 (ipykernel)",
   "language": "python",
   "name": "python3"
  },
  "language_info": {
   "codemirror_mode": {
    "name": "ipython",
    "version": 3
   },
   "file_extension": ".py",
   "mimetype": "text/x-python",
   "name": "python",
   "nbconvert_exporter": "python",
   "pygments_lexer": "ipython3",
   "version": "3.9.12"
  }
 },
 "nbformat": 4,
 "nbformat_minor": 5
}
